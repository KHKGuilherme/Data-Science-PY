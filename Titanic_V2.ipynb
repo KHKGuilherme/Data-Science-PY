{
  "nbformat": 4,
  "nbformat_minor": 0,
  "metadata": {
    "colab": {
      "provenance": [],
      "collapsed_sections": [
        "r8eNKWSRk16m",
        "omt2A_l5v3kz",
        "KfZVVQ02uLT7",
        "EpWkUw1_uPpT",
        "x6aKrAzAv8bL",
        "j2o6yrKkPVtB"
      ],
      "authorship_tag": "ABX9TyO5CqFV7F4s/znJIhsrtlKy",
      "include_colab_link": true
    },
    "kernelspec": {
      "name": "python3",
      "display_name": "Python 3"
    },
    "language_info": {
      "name": "python"
    },
    "accelerator": "GPU"
  },
  "cells": [
    {
      "cell_type": "markdown",
      "metadata": {
        "id": "view-in-github",
        "colab_type": "text"
      },
      "source": [
        "<a href=\"https://colab.research.google.com/github/KHKGuilherme/Data-Science-PY/blob/main/Titanic_V2.ipynb\" target=\"_parent\"><img src=\"https://colab.research.google.com/assets/colab-badge.svg\" alt=\"Open In Colab\"/></a>"
      ]
    },
    {
      "cell_type": "markdown",
      "source": [
        "# Bibliotecas + Drive"
      ],
      "metadata": {
        "id": "8_r6psS7jmj9"
      }
    },
    {
      "cell_type": "code",
      "execution_count": null,
      "metadata": {
        "id": "vNanoRwT6nWB"
      },
      "outputs": [],
      "source": [
        "#------------------------------#\n",
        "# Bibliotecas\n",
        "#------------------------------#\n",
        "\n",
        "# Numpy - Calculo Vetorial\n",
        "import numpy as np\n",
        "\n",
        "# Pandas\n",
        "import pandas as pd\n",
        "\n",
        "# Scikit-Learn\n",
        "from sklearn.tree import export_graphviz\n",
        "from sklearn.metrics import accuracy_score\n",
        "from sklearn.metrics import confusion_matrix\n",
        "from sklearn.tree import DecisionTreeClassifier\n",
        "from sklearn.metrics import classification_report\n",
        "from sklearn.ensemble import RandomForestClassifier\n",
        "from sklearn.model_selection import train_test_split\n",
        "\n",
        "# Gráficos\n",
        "\n",
        "# import os\n",
        "import seaborn as sns\n",
        "from graphviz import Source\n",
        "# from sklearn.tree import export_graphviz\n",
        "from matplotlib import pyplot as plt\n",
        "\n",
        "\n",
        "# Google Drive\n",
        "import os\n",
        "from google.colab import drive"
      ]
    },
    {
      "cell_type": "code",
      "source": [
        "#------------------------------#\n",
        "# Drive\n",
        "#------------------------------#\n",
        "\n",
        "drive.mount('/content/drive')\n",
        "os.chdir('/content/drive/MyDrive/IC/Titanic/Dataset')"
      ],
      "metadata": {
        "colab": {
          "base_uri": "https://localhost:8080/"
        },
        "id": "mkXoBK2k7Oo4",
        "outputId": "8ab41ff2-e487-4ccc-ed54-0f5a050741c6"
      },
      "execution_count": null,
      "outputs": [
        {
          "output_type": "stream",
          "name": "stdout",
          "text": [
            "Mounted at /content/drive\n"
          ]
        }
      ]
    },
    {
      "cell_type": "markdown",
      "source": [
        "# Importação + Tratamento dos Dados"
      ],
      "metadata": {
        "id": "r8eNKWSRk16m"
      }
    },
    {
      "cell_type": "code",
      "source": [
        "#------------------------------#\n",
        "# Importando os Datasets\n",
        "#------------------------------#\n",
        "\n",
        "train = pd.read_csv(\"train.csv\")\n",
        "test = pd.read_csv(\"test.csv\")\n",
        "\n",
        "#------------------------------#\n",
        "# Tratamento dos Dados - v1\n",
        "#------------------------------#\n",
        "# X = pd.DataFrame(train, columns = [\"Pclass\",\"Sex\",\"Age\"])\n",
        "X = pd.DataFrame(train, columns = [\"Pclass\",\"Sex\",\"Age\",\"SibSp\",\"Parch\"])\n",
        "Y = pd.DataFrame(train, columns = [\"Survived\"])\n",
        "\n",
        "# Concertando o Sexo - Ele é Qualitativo mas é necessário que vire Quantitativo\n",
        "X[\"Sex\"].replace({\"male\":0,\"female\":1},inplace=True)\n",
        "\n",
        "# Concertando a Idade - Existem dados NaN, substitua pela média das outras\n",
        "X[\"Age\"].fillna(value = X[\"Age\"].median(),inplace=True)\n",
        "X[\"Parch\"].fillna(value = X[\"Parch\"].median(),inplace=True)\n",
        "X[\"SibSp\"].fillna(value = X[\"SibSp\"].median(),inplace=True)\n",
        "\n",
        "# Gini por padrão\n",
        "X_train, X_test, Y_train,Y_test = train_test_split(X,Y,test_size=0.3, random_state=None)\n",
        "\n",
        "#------------------------------#\n",
        "# Tratamento dos Dados - v2\n",
        "#------------------------------#\n",
        "\"\"\"\n",
        "# Conversão para Matrizes/Vetor (NUMPY)\n",
        "x_train = np.array(train.iloc[:,2:11])\n",
        "y_train = np.array(train['Survived'])\n",
        "\n",
        "x_teste = np.array(test.iloc[:,2:11])\n",
        "\"\"\"\n",
        "\n",
        "\n"
      ],
      "metadata": {
        "colab": {
          "base_uri": "https://localhost:8080/"
        },
        "id": "jGkG9PlqlAP9",
        "outputId": "86ea3a61-dc3b-4e64-d78e-e081ba2df8ae"
      },
      "execution_count": null,
      "outputs": [
        {
          "output_type": "execute_result",
          "data": {
            "text/plain": [
              "\"\\n# Conversão para Matrizes/Vetor (NUMPY)\\nx_train = np.array(train.iloc[:,2:11])\\ny_train = np.array(train['Survived'])\\n\\nx_teste = np.array(test.iloc[:,2:11])\\n\""
            ],
            "application/vnd.google.colaboratory.intrinsic+json": {
              "type": "string"
            }
          },
          "metadata": {},
          "execution_count": 7
        }
      ]
    },
    {
      "cell_type": "markdown",
      "source": [
        "# Árvore de Decisão"
      ],
      "metadata": {
        "id": "LvOIPegDpmzk"
      }
    },
    {
      "cell_type": "markdown",
      "source": [
        "## Criação + Treino"
      ],
      "metadata": {
        "id": "omt2A_l5v3kz"
      }
    },
    {
      "cell_type": "code",
      "source": [
        "clf_gini = DecisionTreeClassifier(max_depth=6)\n",
        "history = clf_gini.fit(X_train,Y_train)\n",
        "\n",
        "# pd.DataFrame(history.history).plot()"
      ],
      "metadata": {
        "id": "5GQ5lneApmUG"
      },
      "execution_count": null,
      "outputs": []
    },
    {
      "cell_type": "markdown",
      "source": [
        "## Gráfico"
      ],
      "metadata": {
        "id": "KfZVVQ02uLT7"
      }
    },
    {
      "cell_type": "code",
      "source": [
        "export_graphviz(clf_gini,out_file='credit_tree.dot',feature_names=[\"Pclass\",\"Sex\",\"Age\",\"Parch\",\"SibSp\"],rounded=True,filled=True)"
      ],
      "metadata": {
        "id": "JeEp_8VUsGuu"
      },
      "execution_count": null,
      "outputs": []
    },
    {
      "cell_type": "code",
      "source": [
        "Source.from_file('credit_tree.dot')"
      ],
      "metadata": {
        "colab": {
          "base_uri": "https://localhost:8080/",
          "height": 955
        },
        "id": "y1A9GfJ5sof8",
        "outputId": "252e841b-02eb-4787-cdf7-3118cac67bcd"
      },
      "execution_count": null,
      "outputs": [
        {
          "output_type": "execute_result",
          "data": {
            "text/plain": [
              "<graphviz.files.Source at 0x7f7b5292f9d0>"
            ],
            "image/svg+xml": "<?xml version=\"1.0\" encoding=\"UTF-8\" standalone=\"no\"?>\n<!DOCTYPE svg PUBLIC \"-//W3C//DTD SVG 1.1//EN\"\n \"http://www.w3.org/Graphics/SVG/1.1/DTD/svg11.dtd\">\n<!-- Generated by graphviz version 2.40.1 (20161225.0304)\n -->\n<!-- Title: Tree Pages: 1 -->\n<svg width=\"3036pt\" height=\"685pt\"\n viewBox=\"0.00 0.00 3036.00 685.00\" xmlns=\"http://www.w3.org/2000/svg\" xmlns:xlink=\"http://www.w3.org/1999/xlink\">\n<g id=\"graph0\" class=\"graph\" transform=\"scale(1 1) rotate(0) translate(4 681)\">\n<title>Tree</title>\n<polygon fill=\"#ffffff\" stroke=\"transparent\" points=\"-4,4 -4,-681 3032,-681 3032,4 -4,4\"/>\n<!-- 0 -->\n<g id=\"node1\" class=\"node\">\n<title>0</title>\n<path fill=\"#f6d4bb\" stroke=\"#000000\" d=\"M1500.5,-677C1500.5,-677 1392.5,-677 1392.5,-677 1386.5,-677 1380.5,-671 1380.5,-665 1380.5,-665 1380.5,-621 1380.5,-621 1380.5,-615 1386.5,-609 1392.5,-609 1392.5,-609 1500.5,-609 1500.5,-609 1506.5,-609 1512.5,-615 1512.5,-621 1512.5,-621 1512.5,-665 1512.5,-665 1512.5,-671 1506.5,-677 1500.5,-677\"/>\n<text text-anchor=\"middle\" x=\"1446.5\" y=\"-661.8\" font-family=\"Helvetica,sans-Serif\" font-size=\"14.00\" fill=\"#000000\">Sex &lt;= 0.5</text>\n<text text-anchor=\"middle\" x=\"1446.5\" y=\"-646.8\" font-family=\"Helvetica,sans-Serif\" font-size=\"14.00\" fill=\"#000000\">gini = 0.479</text>\n<text text-anchor=\"middle\" x=\"1446.5\" y=\"-631.8\" font-family=\"Helvetica,sans-Serif\" font-size=\"14.00\" fill=\"#000000\">samples = 623</text>\n<text text-anchor=\"middle\" x=\"1446.5\" y=\"-616.8\" font-family=\"Helvetica,sans-Serif\" font-size=\"14.00\" fill=\"#000000\">value = [376, 247]</text>\n</g>\n<!-- 1 -->\n<g id=\"node2\" class=\"node\">\n<title>1</title>\n<path fill=\"#eca16b\" stroke=\"#000000\" d=\"M848.5,-573C848.5,-573 748.5,-573 748.5,-573 742.5,-573 736.5,-567 736.5,-561 736.5,-561 736.5,-517 736.5,-517 736.5,-511 742.5,-505 748.5,-505 748.5,-505 848.5,-505 848.5,-505 854.5,-505 860.5,-511 860.5,-517 860.5,-517 860.5,-561 860.5,-561 860.5,-567 854.5,-573 848.5,-573\"/>\n<text text-anchor=\"middle\" x=\"798.5\" y=\"-557.8\" font-family=\"Helvetica,sans-Serif\" font-size=\"14.00\" fill=\"#000000\">Age &lt;= 6.5</text>\n<text text-anchor=\"middle\" x=\"798.5\" y=\"-542.8\" font-family=\"Helvetica,sans-Serif\" font-size=\"14.00\" fill=\"#000000\">gini = 0.321</text>\n<text text-anchor=\"middle\" x=\"798.5\" y=\"-527.8\" font-family=\"Helvetica,sans-Serif\" font-size=\"14.00\" fill=\"#000000\">samples = 398</text>\n<text text-anchor=\"middle\" x=\"798.5\" y=\"-512.8\" font-family=\"Helvetica,sans-Serif\" font-size=\"14.00\" fill=\"#000000\">value = [318, 80]</text>\n</g>\n<!-- 0&#45;&gt;1 -->\n<g id=\"edge1\" class=\"edge\">\n<title>0&#45;&gt;1</title>\n<path fill=\"none\" stroke=\"#000000\" d=\"M1380.4994,-632.4073C1258.3256,-612.7992 997.8441,-570.9935 870.9654,-550.6303\"/>\n<polygon fill=\"#000000\" stroke=\"#000000\" points=\"871.385,-547.1529 860.9567,-549.0239 870.2757,-554.0644 871.385,-547.1529\"/>\n<text text-anchor=\"middle\" x=\"875.6097\" y=\"-565.5795\" font-family=\"Helvetica,sans-Serif\" font-size=\"14.00\" fill=\"#000000\">True</text>\n</g>\n<!-- 38 -->\n<g id=\"node39\" class=\"node\">\n<title>38</title>\n<path fill=\"#7ebfee\" stroke=\"#000000\" d=\"M2003.5,-573C2003.5,-573 1903.5,-573 1903.5,-573 1897.5,-573 1891.5,-567 1891.5,-561 1891.5,-561 1891.5,-517 1891.5,-517 1891.5,-511 1897.5,-505 1903.5,-505 1903.5,-505 2003.5,-505 2003.5,-505 2009.5,-505 2015.5,-511 2015.5,-517 2015.5,-517 2015.5,-561 2015.5,-561 2015.5,-567 2009.5,-573 2003.5,-573\"/>\n<text text-anchor=\"middle\" x=\"1953.5\" y=\"-557.8\" font-family=\"Helvetica,sans-Serif\" font-size=\"14.00\" fill=\"#000000\">Pclass &lt;= 2.5</text>\n<text text-anchor=\"middle\" x=\"1953.5\" y=\"-542.8\" font-family=\"Helvetica,sans-Serif\" font-size=\"14.00\" fill=\"#000000\">gini = 0.383</text>\n<text text-anchor=\"middle\" x=\"1953.5\" y=\"-527.8\" font-family=\"Helvetica,sans-Serif\" font-size=\"14.00\" fill=\"#000000\">samples = 225</text>\n<text text-anchor=\"middle\" x=\"1953.5\" y=\"-512.8\" font-family=\"Helvetica,sans-Serif\" font-size=\"14.00\" fill=\"#000000\">value = [58, 167]</text>\n</g>\n<!-- 0&#45;&gt;38 -->\n<g id=\"edge38\" class=\"edge\">\n<title>0&#45;&gt;38</title>\n<path fill=\"none\" stroke=\"#000000\" d=\"M1512.5213,-629.4572C1607.6735,-609.9388 1782.7231,-574.0312 1881.2364,-553.8233\"/>\n<polygon fill=\"#000000\" stroke=\"#000000\" points=\"1882.0164,-557.2363 1891.1091,-551.7981 1880.6097,-550.379 1882.0164,-557.2363\"/>\n<text text-anchor=\"middle\" x=\"1877.3442\" y=\"-568.9675\" font-family=\"Helvetica,sans-Serif\" font-size=\"14.00\" fill=\"#000000\">False</text>\n</g>\n<!-- 2 -->\n<g id=\"node3\" class=\"node\">\n<title>2</title>\n<path fill=\"#93caf1\" stroke=\"#000000\" d=\"M217,-469C217,-469 134,-469 134,-469 128,-469 122,-463 122,-457 122,-457 122,-413 122,-413 122,-407 128,-401 134,-401 134,-401 217,-401 217,-401 223,-401 229,-407 229,-413 229,-413 229,-457 229,-457 229,-463 223,-469 217,-469\"/>\n<text text-anchor=\"middle\" x=\"175.5\" y=\"-453.8\" font-family=\"Helvetica,sans-Serif\" font-size=\"14.00\" fill=\"#000000\">Parch &lt;= 2.0</text>\n<text text-anchor=\"middle\" x=\"175.5\" y=\"-438.8\" font-family=\"Helvetica,sans-Serif\" font-size=\"14.00\" fill=\"#000000\">gini = 0.43</text>\n<text text-anchor=\"middle\" x=\"175.5\" y=\"-423.8\" font-family=\"Helvetica,sans-Serif\" font-size=\"14.00\" fill=\"#000000\">samples = 16</text>\n<text text-anchor=\"middle\" x=\"175.5\" y=\"-408.8\" font-family=\"Helvetica,sans-Serif\" font-size=\"14.00\" fill=\"#000000\">value = [5, 11]</text>\n</g>\n<!-- 1&#45;&gt;2 -->\n<g id=\"edge2\" class=\"edge\">\n<title>1&#45;&gt;2</title>\n<path fill=\"none\" stroke=\"#000000\" d=\"M736.4867,-528.6479C617.7606,-508.8284 359.4894,-465.7141 239.3443,-445.6578\"/>\n<polygon fill=\"#000000\" stroke=\"#000000\" points=\"239.6379,-442.1585 229.1981,-443.964 238.4852,-449.0629 239.6379,-442.1585\"/>\n</g>\n<!-- 11 -->\n<g id=\"node12\" class=\"node\">\n<title>11</title>\n<path fill=\"#eb9d65\" stroke=\"#000000\" d=\"M848.5,-469C848.5,-469 748.5,-469 748.5,-469 742.5,-469 736.5,-463 736.5,-457 736.5,-457 736.5,-413 736.5,-413 736.5,-407 742.5,-401 748.5,-401 748.5,-401 848.5,-401 848.5,-401 854.5,-401 860.5,-407 860.5,-413 860.5,-413 860.5,-457 860.5,-457 860.5,-463 854.5,-469 848.5,-469\"/>\n<text text-anchor=\"middle\" x=\"798.5\" y=\"-453.8\" font-family=\"Helvetica,sans-Serif\" font-size=\"14.00\" fill=\"#000000\">Pclass &lt;= 1.5</text>\n<text text-anchor=\"middle\" x=\"798.5\" y=\"-438.8\" font-family=\"Helvetica,sans-Serif\" font-size=\"14.00\" fill=\"#000000\">gini = 0.296</text>\n<text text-anchor=\"middle\" x=\"798.5\" y=\"-423.8\" font-family=\"Helvetica,sans-Serif\" font-size=\"14.00\" fill=\"#000000\">samples = 382</text>\n<text text-anchor=\"middle\" x=\"798.5\" y=\"-408.8\" font-family=\"Helvetica,sans-Serif\" font-size=\"14.00\" fill=\"#000000\">value = [313, 69]</text>\n</g>\n<!-- 1&#45;&gt;11 -->\n<g id=\"edge11\" class=\"edge\">\n<title>1&#45;&gt;11</title>\n<path fill=\"none\" stroke=\"#000000\" d=\"M798.5,-504.9465C798.5,-496.776 798.5,-487.9318 798.5,-479.3697\"/>\n<polygon fill=\"#000000\" stroke=\"#000000\" points=\"802.0001,-479.13 798.5,-469.13 795.0001,-479.13 802.0001,-479.13\"/>\n</g>\n<!-- 3 -->\n<g id=\"node4\" class=\"node\">\n<title>3</title>\n<path fill=\"#399de5\" stroke=\"#000000\" d=\"M95,-357.5C95,-357.5 12,-357.5 12,-357.5 6,-357.5 0,-351.5 0,-345.5 0,-345.5 0,-316.5 0,-316.5 0,-310.5 6,-304.5 12,-304.5 12,-304.5 95,-304.5 95,-304.5 101,-304.5 107,-310.5 107,-316.5 107,-316.5 107,-345.5 107,-345.5 107,-351.5 101,-357.5 95,-357.5\"/>\n<text text-anchor=\"middle\" x=\"53.5\" y=\"-342.3\" font-family=\"Helvetica,sans-Serif\" font-size=\"14.00\" fill=\"#000000\">gini = 0.0</text>\n<text text-anchor=\"middle\" x=\"53.5\" y=\"-327.3\" font-family=\"Helvetica,sans-Serif\" font-size=\"14.00\" fill=\"#000000\">samples = 10</text>\n<text text-anchor=\"middle\" x=\"53.5\" y=\"-312.3\" font-family=\"Helvetica,sans-Serif\" font-size=\"14.00\" fill=\"#000000\">value = [0, 10]</text>\n</g>\n<!-- 2&#45;&gt;3 -->\n<g id=\"edge3\" class=\"edge\">\n<title>2&#45;&gt;3</title>\n<path fill=\"none\" stroke=\"#000000\" d=\"M135.5526,-400.9465C121.7268,-389.1606 106.2564,-375.9726 92.5071,-364.2519\"/>\n<polygon fill=\"#000000\" stroke=\"#000000\" points=\"94.5168,-361.366 84.636,-357.5422 89.9756,-366.6931 94.5168,-361.366\"/>\n</g>\n<!-- 4 -->\n<g id=\"node5\" class=\"node\">\n<title>4</title>\n<path fill=\"#ea9a61\" stroke=\"#000000\" d=\"M213.5,-365C213.5,-365 137.5,-365 137.5,-365 131.5,-365 125.5,-359 125.5,-353 125.5,-353 125.5,-309 125.5,-309 125.5,-303 131.5,-297 137.5,-297 137.5,-297 213.5,-297 213.5,-297 219.5,-297 225.5,-303 225.5,-309 225.5,-309 225.5,-353 225.5,-353 225.5,-359 219.5,-365 213.5,-365\"/>\n<text text-anchor=\"middle\" x=\"175.5\" y=\"-349.8\" font-family=\"Helvetica,sans-Serif\" font-size=\"14.00\" fill=\"#000000\">SibSp &lt;= 1.5</text>\n<text text-anchor=\"middle\" x=\"175.5\" y=\"-334.8\" font-family=\"Helvetica,sans-Serif\" font-size=\"14.00\" fill=\"#000000\">gini = 0.278</text>\n<text text-anchor=\"middle\" x=\"175.5\" y=\"-319.8\" font-family=\"Helvetica,sans-Serif\" font-size=\"14.00\" fill=\"#000000\">samples = 6</text>\n<text text-anchor=\"middle\" x=\"175.5\" y=\"-304.8\" font-family=\"Helvetica,sans-Serif\" font-size=\"14.00\" fill=\"#000000\">value = [5, 1]</text>\n</g>\n<!-- 2&#45;&gt;4 -->\n<g id=\"edge4\" class=\"edge\">\n<title>2&#45;&gt;4</title>\n<path fill=\"none\" stroke=\"#000000\" d=\"M175.5,-400.9465C175.5,-392.776 175.5,-383.9318 175.5,-375.3697\"/>\n<polygon fill=\"#000000\" stroke=\"#000000\" points=\"179.0001,-375.13 175.5,-365.13 172.0001,-375.13 179.0001,-375.13\"/>\n</g>\n<!-- 5 -->\n<g id=\"node6\" class=\"node\">\n<title>5</title>\n<path fill=\"#e58139\" stroke=\"#000000\" d=\"M96,-253.5C96,-253.5 21,-253.5 21,-253.5 15,-253.5 9,-247.5 9,-241.5 9,-241.5 9,-212.5 9,-212.5 9,-206.5 15,-200.5 21,-200.5 21,-200.5 96,-200.5 96,-200.5 102,-200.5 108,-206.5 108,-212.5 108,-212.5 108,-241.5 108,-241.5 108,-247.5 102,-253.5 96,-253.5\"/>\n<text text-anchor=\"middle\" x=\"58.5\" y=\"-238.3\" font-family=\"Helvetica,sans-Serif\" font-size=\"14.00\" fill=\"#000000\">gini = 0.0</text>\n<text text-anchor=\"middle\" x=\"58.5\" y=\"-223.3\" font-family=\"Helvetica,sans-Serif\" font-size=\"14.00\" fill=\"#000000\">samples = 3</text>\n<text text-anchor=\"middle\" x=\"58.5\" y=\"-208.3\" font-family=\"Helvetica,sans-Serif\" font-size=\"14.00\" fill=\"#000000\">value = [3, 0]</text>\n</g>\n<!-- 4&#45;&gt;5 -->\n<g id=\"edge5\" class=\"edge\">\n<title>4&#45;&gt;5</title>\n<path fill=\"none\" stroke=\"#000000\" d=\"M137.1898,-296.9465C123.9306,-285.1606 109.0942,-271.9726 95.9084,-260.2519\"/>\n<polygon fill=\"#000000\" stroke=\"#000000\" points=\"98.1593,-257.5699 88.3599,-253.5422 93.5088,-262.8018 98.1593,-257.5699\"/>\n</g>\n<!-- 6 -->\n<g id=\"node7\" class=\"node\">\n<title>6</title>\n<path fill=\"#f2c09c\" stroke=\"#000000\" d=\"M213,-261C213,-261 138,-261 138,-261 132,-261 126,-255 126,-249 126,-249 126,-205 126,-205 126,-199 132,-193 138,-193 138,-193 213,-193 213,-193 219,-193 225,-199 225,-205 225,-205 225,-249 225,-249 225,-255 219,-261 213,-261\"/>\n<text text-anchor=\"middle\" x=\"175.5\" y=\"-245.8\" font-family=\"Helvetica,sans-Serif\" font-size=\"14.00\" fill=\"#000000\">Age &lt;= 2.0</text>\n<text text-anchor=\"middle\" x=\"175.5\" y=\"-230.8\" font-family=\"Helvetica,sans-Serif\" font-size=\"14.00\" fill=\"#000000\">gini = 0.444</text>\n<text text-anchor=\"middle\" x=\"175.5\" y=\"-215.8\" font-family=\"Helvetica,sans-Serif\" font-size=\"14.00\" fill=\"#000000\">samples = 3</text>\n<text text-anchor=\"middle\" x=\"175.5\" y=\"-200.8\" font-family=\"Helvetica,sans-Serif\" font-size=\"14.00\" fill=\"#000000\">value = [2, 1]</text>\n</g>\n<!-- 4&#45;&gt;6 -->\n<g id=\"edge6\" class=\"edge\">\n<title>4&#45;&gt;6</title>\n<path fill=\"none\" stroke=\"#000000\" d=\"M175.5,-296.9465C175.5,-288.776 175.5,-279.9318 175.5,-271.3697\"/>\n<polygon fill=\"#000000\" stroke=\"#000000\" points=\"179.0001,-271.13 175.5,-261.13 172.0001,-271.13 179.0001,-271.13\"/>\n</g>\n<!-- 7 -->\n<g id=\"node8\" class=\"node\">\n<title>7</title>\n<path fill=\"#e58139\" stroke=\"#000000\" d=\"M96,-149.5C96,-149.5 21,-149.5 21,-149.5 15,-149.5 9,-143.5 9,-137.5 9,-137.5 9,-108.5 9,-108.5 9,-102.5 15,-96.5 21,-96.5 21,-96.5 96,-96.5 96,-96.5 102,-96.5 108,-102.5 108,-108.5 108,-108.5 108,-137.5 108,-137.5 108,-143.5 102,-149.5 96,-149.5\"/>\n<text text-anchor=\"middle\" x=\"58.5\" y=\"-134.3\" font-family=\"Helvetica,sans-Serif\" font-size=\"14.00\" fill=\"#000000\">gini = 0.0</text>\n<text text-anchor=\"middle\" x=\"58.5\" y=\"-119.3\" font-family=\"Helvetica,sans-Serif\" font-size=\"14.00\" fill=\"#000000\">samples = 1</text>\n<text text-anchor=\"middle\" x=\"58.5\" y=\"-104.3\" font-family=\"Helvetica,sans-Serif\" font-size=\"14.00\" fill=\"#000000\">value = [1, 0]</text>\n</g>\n<!-- 6&#45;&gt;7 -->\n<g id=\"edge7\" class=\"edge\">\n<title>6&#45;&gt;7</title>\n<path fill=\"none\" stroke=\"#000000\" d=\"M137.1898,-192.9465C123.9306,-181.1606 109.0942,-167.9726 95.9084,-156.2519\"/>\n<polygon fill=\"#000000\" stroke=\"#000000\" points=\"98.1593,-153.5699 88.3599,-149.5422 93.5088,-158.8018 98.1593,-153.5699\"/>\n</g>\n<!-- 8 -->\n<g id=\"node9\" class=\"node\">\n<title>8</title>\n<path fill=\"#ffffff\" stroke=\"#000000\" d=\"M213,-157C213,-157 138,-157 138,-157 132,-157 126,-151 126,-145 126,-145 126,-101 126,-101 126,-95 132,-89 138,-89 138,-89 213,-89 213,-89 219,-89 225,-95 225,-101 225,-101 225,-145 225,-145 225,-151 219,-157 213,-157\"/>\n<text text-anchor=\"middle\" x=\"175.5\" y=\"-141.8\" font-family=\"Helvetica,sans-Serif\" font-size=\"14.00\" fill=\"#000000\">Age &lt;= 3.5</text>\n<text text-anchor=\"middle\" x=\"175.5\" y=\"-126.8\" font-family=\"Helvetica,sans-Serif\" font-size=\"14.00\" fill=\"#000000\">gini = 0.5</text>\n<text text-anchor=\"middle\" x=\"175.5\" y=\"-111.8\" font-family=\"Helvetica,sans-Serif\" font-size=\"14.00\" fill=\"#000000\">samples = 2</text>\n<text text-anchor=\"middle\" x=\"175.5\" y=\"-96.8\" font-family=\"Helvetica,sans-Serif\" font-size=\"14.00\" fill=\"#000000\">value = [1, 1]</text>\n</g>\n<!-- 6&#45;&gt;8 -->\n<g id=\"edge8\" class=\"edge\">\n<title>6&#45;&gt;8</title>\n<path fill=\"none\" stroke=\"#000000\" d=\"M175.5,-192.9465C175.5,-184.776 175.5,-175.9318 175.5,-167.3697\"/>\n<polygon fill=\"#000000\" stroke=\"#000000\" points=\"179.0001,-167.13 175.5,-157.13 172.0001,-167.13 179.0001,-167.13\"/>\n</g>\n<!-- 9 -->\n<g id=\"node10\" class=\"node\">\n<title>9</title>\n<path fill=\"#399de5\" stroke=\"#000000\" d=\"M96,-53C96,-53 21,-53 21,-53 15,-53 9,-47 9,-41 9,-41 9,-12 9,-12 9,-6 15,0 21,0 21,0 96,0 96,0 102,0 108,-6 108,-12 108,-12 108,-41 108,-41 108,-47 102,-53 96,-53\"/>\n<text text-anchor=\"middle\" x=\"58.5\" y=\"-37.8\" font-family=\"Helvetica,sans-Serif\" font-size=\"14.00\" fill=\"#000000\">gini = 0.0</text>\n<text text-anchor=\"middle\" x=\"58.5\" y=\"-22.8\" font-family=\"Helvetica,sans-Serif\" font-size=\"14.00\" fill=\"#000000\">samples = 1</text>\n<text text-anchor=\"middle\" x=\"58.5\" y=\"-7.8\" font-family=\"Helvetica,sans-Serif\" font-size=\"14.00\" fill=\"#000000\">value = [0, 1]</text>\n</g>\n<!-- 8&#45;&gt;9 -->\n<g id=\"edge9\" class=\"edge\">\n<title>8&#45;&gt;9</title>\n<path fill=\"none\" stroke=\"#000000\" d=\"M134.2502,-88.9777C122.7039,-79.4545 110.1729,-69.1191 98.689,-59.6473\"/>\n<polygon fill=\"#000000\" stroke=\"#000000\" points=\"100.8724,-56.9113 90.9308,-53.2485 96.4184,-62.3115 100.8724,-56.9113\"/>\n</g>\n<!-- 10 -->\n<g id=\"node11\" class=\"node\">\n<title>10</title>\n<path fill=\"#e58139\" stroke=\"#000000\" d=\"M213,-53C213,-53 138,-53 138,-53 132,-53 126,-47 126,-41 126,-41 126,-12 126,-12 126,-6 132,0 138,0 138,0 213,0 213,0 219,0 225,-6 225,-12 225,-12 225,-41 225,-41 225,-47 219,-53 213,-53\"/>\n<text text-anchor=\"middle\" x=\"175.5\" y=\"-37.8\" font-family=\"Helvetica,sans-Serif\" font-size=\"14.00\" fill=\"#000000\">gini = 0.0</text>\n<text text-anchor=\"middle\" x=\"175.5\" y=\"-22.8\" font-family=\"Helvetica,sans-Serif\" font-size=\"14.00\" fill=\"#000000\">samples = 1</text>\n<text text-anchor=\"middle\" x=\"175.5\" y=\"-7.8\" font-family=\"Helvetica,sans-Serif\" font-size=\"14.00\" fill=\"#000000\">value = [1, 0]</text>\n</g>\n<!-- 8&#45;&gt;10 -->\n<g id=\"edge10\" class=\"edge\">\n<title>8&#45;&gt;10</title>\n<path fill=\"none\" stroke=\"#000000\" d=\"M175.5,-88.9777C175.5,-80.7364 175.5,-71.887 175.5,-63.5153\"/>\n<polygon fill=\"#000000\" stroke=\"#000000\" points=\"179.0001,-63.2484 175.5,-53.2485 172.0001,-63.2485 179.0001,-63.2484\"/>\n</g>\n<!-- 12 -->\n<g id=\"node13\" class=\"node\">\n<title>12</title>\n<path fill=\"#f4c8a8\" stroke=\"#000000\" d=\"M654.5,-365C654.5,-365 562.5,-365 562.5,-365 556.5,-365 550.5,-359 550.5,-353 550.5,-353 550.5,-309 550.5,-309 550.5,-303 556.5,-297 562.5,-297 562.5,-297 654.5,-297 654.5,-297 660.5,-297 666.5,-303 666.5,-309 666.5,-309 666.5,-353 666.5,-353 666.5,-359 660.5,-365 654.5,-365\"/>\n<text text-anchor=\"middle\" x=\"608.5\" y=\"-349.8\" font-family=\"Helvetica,sans-Serif\" font-size=\"14.00\" fill=\"#000000\">Age &lt;= 53.0</text>\n<text text-anchor=\"middle\" x=\"608.5\" y=\"-334.8\" font-family=\"Helvetica,sans-Serif\" font-size=\"14.00\" fill=\"#000000\">gini = 0.461</text>\n<text text-anchor=\"middle\" x=\"608.5\" y=\"-319.8\" font-family=\"Helvetica,sans-Serif\" font-size=\"14.00\" fill=\"#000000\">samples = 89</text>\n<text text-anchor=\"middle\" x=\"608.5\" y=\"-304.8\" font-family=\"Helvetica,sans-Serif\" font-size=\"14.00\" fill=\"#000000\">value = [57, 32]</text>\n</g>\n<!-- 11&#45;&gt;12 -->\n<g id=\"edge12\" class=\"edge\">\n<title>11&#45;&gt;12</title>\n<path fill=\"none\" stroke=\"#000000\" d=\"M736.2869,-400.9465C716.8594,-390.3125 695.3468,-378.5372 675.5992,-367.728\"/>\n<polygon fill=\"#000000\" stroke=\"#000000\" points=\"677.1164,-364.5685 666.664,-362.8371 673.7554,-370.7088 677.1164,-364.5685\"/>\n</g>\n<!-- 23 -->\n<g id=\"node24\" class=\"node\">\n<title>23</title>\n<path fill=\"#e99356\" stroke=\"#000000\" d=\"M1035.5,-365C1035.5,-365 935.5,-365 935.5,-365 929.5,-365 923.5,-359 923.5,-353 923.5,-353 923.5,-309 923.5,-309 923.5,-303 929.5,-297 935.5,-297 935.5,-297 1035.5,-297 1035.5,-297 1041.5,-297 1047.5,-303 1047.5,-309 1047.5,-309 1047.5,-353 1047.5,-353 1047.5,-359 1041.5,-365 1035.5,-365\"/>\n<text text-anchor=\"middle\" x=\"985.5\" y=\"-349.8\" font-family=\"Helvetica,sans-Serif\" font-size=\"14.00\" fill=\"#000000\">Age &lt;= 32.25</text>\n<text text-anchor=\"middle\" x=\"985.5\" y=\"-334.8\" font-family=\"Helvetica,sans-Serif\" font-size=\"14.00\" fill=\"#000000\">gini = 0.221</text>\n<text text-anchor=\"middle\" x=\"985.5\" y=\"-319.8\" font-family=\"Helvetica,sans-Serif\" font-size=\"14.00\" fill=\"#000000\">samples = 293</text>\n<text text-anchor=\"middle\" x=\"985.5\" y=\"-304.8\" font-family=\"Helvetica,sans-Serif\" font-size=\"14.00\" fill=\"#000000\">value = [256, 37]</text>\n</g>\n<!-- 11&#45;&gt;23 -->\n<g id=\"edge23\" class=\"edge\">\n<title>11&#45;&gt;23</title>\n<path fill=\"none\" stroke=\"#000000\" d=\"M859.7308,-400.9465C877.4893,-391.0701 897.018,-380.2093 915.2811,-370.0522\"/>\n<polygon fill=\"#000000\" stroke=\"#000000\" points=\"917.0934,-373.0492 924.1316,-365.13 913.6911,-366.9317 917.0934,-373.0492\"/>\n</g>\n<!-- 13 -->\n<g id=\"node14\" class=\"node\">\n<title>13</title>\n<path fill=\"#f7dac4\" stroke=\"#000000\" d=\"M464.5,-261C464.5,-261 372.5,-261 372.5,-261 366.5,-261 360.5,-255 360.5,-249 360.5,-249 360.5,-205 360.5,-205 360.5,-199 366.5,-193 372.5,-193 372.5,-193 464.5,-193 464.5,-193 470.5,-193 476.5,-199 476.5,-205 476.5,-205 476.5,-249 476.5,-249 476.5,-255 470.5,-261 464.5,-261\"/>\n<text text-anchor=\"middle\" x=\"418.5\" y=\"-245.8\" font-family=\"Helvetica,sans-Serif\" font-size=\"14.00\" fill=\"#000000\">Age &lt;= 17.5</text>\n<text text-anchor=\"middle\" x=\"418.5\" y=\"-230.8\" font-family=\"Helvetica,sans-Serif\" font-size=\"14.00\" fill=\"#000000\">gini = 0.485</text>\n<text text-anchor=\"middle\" x=\"418.5\" y=\"-215.8\" font-family=\"Helvetica,sans-Serif\" font-size=\"14.00\" fill=\"#000000\">samples = 75</text>\n<text text-anchor=\"middle\" x=\"418.5\" y=\"-200.8\" font-family=\"Helvetica,sans-Serif\" font-size=\"14.00\" fill=\"#000000\">value = [44, 31]</text>\n</g>\n<!-- 12&#45;&gt;13 -->\n<g id=\"edge13\" class=\"edge\">\n<title>12&#45;&gt;13</title>\n<path fill=\"none\" stroke=\"#000000\" d=\"M550.4613,-299.2315C529.9309,-287.9938 506.672,-275.2625 485.4613,-263.6525\"/>\n<polygon fill=\"#000000\" stroke=\"#000000\" points=\"486.9628,-260.4844 476.5104,-258.753 483.6017,-266.6247 486.9628,-260.4844\"/>\n</g>\n<!-- 18 -->\n<g id=\"node19\" class=\"node\">\n<title>18</title>\n<path fill=\"#e78b48\" stroke=\"#000000\" d=\"M650,-261C650,-261 567,-261 567,-261 561,-261 555,-255 555,-249 555,-249 555,-205 555,-205 555,-199 561,-193 567,-193 567,-193 650,-193 650,-193 656,-193 662,-199 662,-205 662,-205 662,-249 662,-249 662,-255 656,-261 650,-261\"/>\n<text text-anchor=\"middle\" x=\"608.5\" y=\"-245.8\" font-family=\"Helvetica,sans-Serif\" font-size=\"14.00\" fill=\"#000000\">Parch &lt;= 0.5</text>\n<text text-anchor=\"middle\" x=\"608.5\" y=\"-230.8\" font-family=\"Helvetica,sans-Serif\" font-size=\"14.00\" fill=\"#000000\">gini = 0.133</text>\n<text text-anchor=\"middle\" x=\"608.5\" y=\"-215.8\" font-family=\"Helvetica,sans-Serif\" font-size=\"14.00\" fill=\"#000000\">samples = 14</text>\n<text text-anchor=\"middle\" x=\"608.5\" y=\"-200.8\" font-family=\"Helvetica,sans-Serif\" font-size=\"14.00\" fill=\"#000000\">value = [13, 1]</text>\n</g>\n<!-- 12&#45;&gt;18 -->\n<g id=\"edge18\" class=\"edge\">\n<title>12&#45;&gt;18</title>\n<path fill=\"none\" stroke=\"#000000\" d=\"M608.5,-296.9465C608.5,-288.776 608.5,-279.9318 608.5,-271.3697\"/>\n<polygon fill=\"#000000\" stroke=\"#000000\" points=\"612.0001,-271.13 608.5,-261.13 605.0001,-271.13 612.0001,-271.13\"/>\n</g>\n<!-- 14 -->\n<g id=\"node15\" class=\"node\">\n<title>14</title>\n<path fill=\"#399de5\" stroke=\"#000000\" d=\"M330,-149.5C330,-149.5 255,-149.5 255,-149.5 249,-149.5 243,-143.5 243,-137.5 243,-137.5 243,-108.5 243,-108.5 243,-102.5 249,-96.5 255,-96.5 255,-96.5 330,-96.5 330,-96.5 336,-96.5 342,-102.5 342,-108.5 342,-108.5 342,-137.5 342,-137.5 342,-143.5 336,-149.5 330,-149.5\"/>\n<text text-anchor=\"middle\" x=\"292.5\" y=\"-134.3\" font-family=\"Helvetica,sans-Serif\" font-size=\"14.00\" fill=\"#000000\">gini = 0.0</text>\n<text text-anchor=\"middle\" x=\"292.5\" y=\"-119.3\" font-family=\"Helvetica,sans-Serif\" font-size=\"14.00\" fill=\"#000000\">samples = 2</text>\n<text text-anchor=\"middle\" x=\"292.5\" y=\"-104.3\" font-family=\"Helvetica,sans-Serif\" font-size=\"14.00\" fill=\"#000000\">value = [0, 2]</text>\n</g>\n<!-- 13&#45;&gt;14 -->\n<g id=\"edge14\" class=\"edge\">\n<title>13&#45;&gt;14</title>\n<path fill=\"none\" stroke=\"#000000\" d=\"M377.2429,-192.9465C362.8303,-181.0504 346.6873,-167.726 332.3883,-155.9237\"/>\n<polygon fill=\"#000000\" stroke=\"#000000\" points=\"334.5971,-153.2086 324.6569,-149.5422 330.1411,-158.6071 334.5971,-153.2086\"/>\n</g>\n<!-- 15 -->\n<g id=\"node16\" class=\"node\">\n<title>15</title>\n<path fill=\"#f6d4bc\" stroke=\"#000000\" d=\"M464.5,-157C464.5,-157 372.5,-157 372.5,-157 366.5,-157 360.5,-151 360.5,-145 360.5,-145 360.5,-101 360.5,-101 360.5,-95 366.5,-89 372.5,-89 372.5,-89 464.5,-89 464.5,-89 470.5,-89 476.5,-95 476.5,-101 476.5,-101 476.5,-145 476.5,-145 476.5,-151 470.5,-157 464.5,-157\"/>\n<text text-anchor=\"middle\" x=\"418.5\" y=\"-141.8\" font-family=\"Helvetica,sans-Serif\" font-size=\"14.00\" fill=\"#000000\">Age &lt;= 47.5</text>\n<text text-anchor=\"middle\" x=\"418.5\" y=\"-126.8\" font-family=\"Helvetica,sans-Serif\" font-size=\"14.00\" fill=\"#000000\">gini = 0.479</text>\n<text text-anchor=\"middle\" x=\"418.5\" y=\"-111.8\" font-family=\"Helvetica,sans-Serif\" font-size=\"14.00\" fill=\"#000000\">samples = 73</text>\n<text text-anchor=\"middle\" x=\"418.5\" y=\"-96.8\" font-family=\"Helvetica,sans-Serif\" font-size=\"14.00\" fill=\"#000000\">value = [44, 29]</text>\n</g>\n<!-- 13&#45;&gt;15 -->\n<g id=\"edge15\" class=\"edge\">\n<title>13&#45;&gt;15</title>\n<path fill=\"none\" stroke=\"#000000\" d=\"M418.5,-192.9465C418.5,-184.776 418.5,-175.9318 418.5,-167.3697\"/>\n<polygon fill=\"#000000\" stroke=\"#000000\" points=\"422.0001,-167.13 418.5,-157.13 415.0001,-167.13 422.0001,-167.13\"/>\n</g>\n<!-- 16 -->\n<g id=\"node17\" class=\"node\">\n<title>16</title>\n<path fill=\"#f3c6a6\" stroke=\"#000000\" d=\"M348.5,-53C348.5,-53 256.5,-53 256.5,-53 250.5,-53 244.5,-47 244.5,-41 244.5,-41 244.5,-12 244.5,-12 244.5,-6 250.5,0 256.5,0 256.5,0 348.5,0 348.5,0 354.5,0 360.5,-6 360.5,-12 360.5,-12 360.5,-41 360.5,-41 360.5,-47 354.5,-53 348.5,-53\"/>\n<text text-anchor=\"middle\" x=\"302.5\" y=\"-37.8\" font-family=\"Helvetica,sans-Serif\" font-size=\"14.00\" fill=\"#000000\">gini = 0.458</text>\n<text text-anchor=\"middle\" x=\"302.5\" y=\"-22.8\" font-family=\"Helvetica,sans-Serif\" font-size=\"14.00\" fill=\"#000000\">samples = 62</text>\n<text text-anchor=\"middle\" x=\"302.5\" y=\"-7.8\" font-family=\"Helvetica,sans-Serif\" font-size=\"14.00\" fill=\"#000000\">value = [40, 22]</text>\n</g>\n<!-- 15&#45;&gt;16 -->\n<g id=\"edge16\" class=\"edge\">\n<title>15&#45;&gt;16</title>\n<path fill=\"none\" stroke=\"#000000\" d=\"M377.6027,-88.9777C366.1551,-79.4545 353.7313,-69.1191 342.3455,-59.6473\"/>\n<polygon fill=\"#000000\" stroke=\"#000000\" points=\"344.5797,-56.9532 334.6536,-53.2485 340.1029,-62.3345 344.5797,-56.9532\"/>\n</g>\n<!-- 17 -->\n<g id=\"node18\" class=\"node\">\n<title>17</title>\n<path fill=\"#aad5f4\" stroke=\"#000000\" d=\"M470.5,-53C470.5,-53 390.5,-53 390.5,-53 384.5,-53 378.5,-47 378.5,-41 378.5,-41 378.5,-12 378.5,-12 378.5,-6 384.5,0 390.5,0 390.5,0 470.5,0 470.5,0 476.5,0 482.5,-6 482.5,-12 482.5,-12 482.5,-41 482.5,-41 482.5,-47 476.5,-53 470.5,-53\"/>\n<text text-anchor=\"middle\" x=\"430.5\" y=\"-37.8\" font-family=\"Helvetica,sans-Serif\" font-size=\"14.00\" fill=\"#000000\">gini = 0.463</text>\n<text text-anchor=\"middle\" x=\"430.5\" y=\"-22.8\" font-family=\"Helvetica,sans-Serif\" font-size=\"14.00\" fill=\"#000000\">samples = 11</text>\n<text text-anchor=\"middle\" x=\"430.5\" y=\"-7.8\" font-family=\"Helvetica,sans-Serif\" font-size=\"14.00\" fill=\"#000000\">value = [4, 7]</text>\n</g>\n<!-- 15&#45;&gt;17 -->\n<g id=\"edge17\" class=\"edge\">\n<title>15&#45;&gt;17</title>\n<path fill=\"none\" stroke=\"#000000\" d=\"M422.7308,-88.9777C423.767,-80.6449 424.8805,-71.6903 425.9317,-63.2364\"/>\n<polygon fill=\"#000000\" stroke=\"#000000\" points=\"429.4129,-63.604 427.1738,-53.2485 422.4664,-62.7401 429.4129,-63.604\"/>\n</g>\n<!-- 19 -->\n<g id=\"node20\" class=\"node\">\n<title>19</title>\n<path fill=\"#e58139\" stroke=\"#000000\" d=\"M590,-149.5C590,-149.5 507,-149.5 507,-149.5 501,-149.5 495,-143.5 495,-137.5 495,-137.5 495,-108.5 495,-108.5 495,-102.5 501,-96.5 507,-96.5 507,-96.5 590,-96.5 590,-96.5 596,-96.5 602,-102.5 602,-108.5 602,-108.5 602,-137.5 602,-137.5 602,-143.5 596,-149.5 590,-149.5\"/>\n<text text-anchor=\"middle\" x=\"548.5\" y=\"-134.3\" font-family=\"Helvetica,sans-Serif\" font-size=\"14.00\" fill=\"#000000\">gini = 0.0</text>\n<text text-anchor=\"middle\" x=\"548.5\" y=\"-119.3\" font-family=\"Helvetica,sans-Serif\" font-size=\"14.00\" fill=\"#000000\">samples = 12</text>\n<text text-anchor=\"middle\" x=\"548.5\" y=\"-104.3\" font-family=\"Helvetica,sans-Serif\" font-size=\"14.00\" fill=\"#000000\">value = [12, 0]</text>\n</g>\n<!-- 18&#45;&gt;19 -->\n<g id=\"edge19\" class=\"edge\">\n<title>18&#45;&gt;19</title>\n<path fill=\"none\" stroke=\"#000000\" d=\"M588.8538,-192.9465C582.4355,-181.8215 575.2965,-169.4473 568.829,-158.237\"/>\n<polygon fill=\"#000000\" stroke=\"#000000\" points=\"571.8417,-156.455 563.8128,-149.5422 565.7784,-159.9531 571.8417,-156.455\"/>\n</g>\n<!-- 20 -->\n<g id=\"node21\" class=\"node\">\n<title>20</title>\n<path fill=\"#ffffff\" stroke=\"#000000\" d=\"M707,-157C707,-157 632,-157 632,-157 626,-157 620,-151 620,-145 620,-145 620,-101 620,-101 620,-95 626,-89 632,-89 632,-89 707,-89 707,-89 713,-89 719,-95 719,-101 719,-101 719,-145 719,-145 719,-151 713,-157 707,-157\"/>\n<text text-anchor=\"middle\" x=\"669.5\" y=\"-141.8\" font-family=\"Helvetica,sans-Serif\" font-size=\"14.00\" fill=\"#000000\">Age &lt;= 65.0</text>\n<text text-anchor=\"middle\" x=\"669.5\" y=\"-126.8\" font-family=\"Helvetica,sans-Serif\" font-size=\"14.00\" fill=\"#000000\">gini = 0.5</text>\n<text text-anchor=\"middle\" x=\"669.5\" y=\"-111.8\" font-family=\"Helvetica,sans-Serif\" font-size=\"14.00\" fill=\"#000000\">samples = 2</text>\n<text text-anchor=\"middle\" x=\"669.5\" y=\"-96.8\" font-family=\"Helvetica,sans-Serif\" font-size=\"14.00\" fill=\"#000000\">value = [1, 1]</text>\n</g>\n<!-- 18&#45;&gt;20 -->\n<g id=\"edge20\" class=\"edge\">\n<title>18&#45;&gt;20</title>\n<path fill=\"none\" stroke=\"#000000\" d=\"M628.4737,-192.9465C633.5293,-184.3271 639.0247,-174.9579 644.3017,-165.9611\"/>\n<polygon fill=\"#000000\" stroke=\"#000000\" points=\"647.4411,-167.5265 649.4814,-157.13 641.4031,-163.985 647.4411,-167.5265\"/>\n</g>\n<!-- 21 -->\n<g id=\"node22\" class=\"node\">\n<title>21</title>\n<path fill=\"#399de5\" stroke=\"#000000\" d=\"M589,-53C589,-53 514,-53 514,-53 508,-53 502,-47 502,-41 502,-41 502,-12 502,-12 502,-6 508,0 514,0 514,0 589,0 589,0 595,0 601,-6 601,-12 601,-12 601,-41 601,-41 601,-47 595,-53 589,-53\"/>\n<text text-anchor=\"middle\" x=\"551.5\" y=\"-37.8\" font-family=\"Helvetica,sans-Serif\" font-size=\"14.00\" fill=\"#000000\">gini = 0.0</text>\n<text text-anchor=\"middle\" x=\"551.5\" y=\"-22.8\" font-family=\"Helvetica,sans-Serif\" font-size=\"14.00\" fill=\"#000000\">samples = 1</text>\n<text text-anchor=\"middle\" x=\"551.5\" y=\"-7.8\" font-family=\"Helvetica,sans-Serif\" font-size=\"14.00\" fill=\"#000000\">value = [0, 1]</text>\n</g>\n<!-- 20&#45;&gt;21 -->\n<g id=\"edge21\" class=\"edge\">\n<title>20&#45;&gt;21</title>\n<path fill=\"none\" stroke=\"#000000\" d=\"M627.8976,-88.9777C616.2526,-79.4545 603.6146,-69.1191 592.0325,-59.6473\"/>\n<polygon fill=\"#000000\" stroke=\"#000000\" points=\"594.1648,-56.8697 584.208,-53.2485 589.7333,-62.2885 594.1648,-56.8697\"/>\n</g>\n<!-- 22 -->\n<g id=\"node23\" class=\"node\">\n<title>22</title>\n<path fill=\"#e58139\" stroke=\"#000000\" d=\"M706,-53C706,-53 631,-53 631,-53 625,-53 619,-47 619,-41 619,-41 619,-12 619,-12 619,-6 625,0 631,0 631,0 706,0 706,0 712,0 718,-6 718,-12 718,-12 718,-41 718,-41 718,-47 712,-53 706,-53\"/>\n<text text-anchor=\"middle\" x=\"668.5\" y=\"-37.8\" font-family=\"Helvetica,sans-Serif\" font-size=\"14.00\" fill=\"#000000\">gini = 0.0</text>\n<text text-anchor=\"middle\" x=\"668.5\" y=\"-22.8\" font-family=\"Helvetica,sans-Serif\" font-size=\"14.00\" fill=\"#000000\">samples = 1</text>\n<text text-anchor=\"middle\" x=\"668.5\" y=\"-7.8\" font-family=\"Helvetica,sans-Serif\" font-size=\"14.00\" fill=\"#000000\">value = [1, 0]</text>\n</g>\n<!-- 20&#45;&gt;22 -->\n<g id=\"edge22\" class=\"edge\">\n<title>20&#45;&gt;22</title>\n<path fill=\"none\" stroke=\"#000000\" d=\"M669.1474,-88.9777C669.062,-80.7364 668.9703,-71.887 668.8836,-63.5153\"/>\n<polygon fill=\"#000000\" stroke=\"#000000\" points=\"672.3807,-63.2116 668.7772,-53.2485 665.3811,-63.2842 672.3807,-63.2116\"/>\n</g>\n<!-- 24 -->\n<g id=\"node25\" class=\"node\">\n<title>24</title>\n<path fill=\"#e9975b\" stroke=\"#000000\" d=\"M1035.5,-261C1035.5,-261 935.5,-261 935.5,-261 929.5,-261 923.5,-255 923.5,-249 923.5,-249 923.5,-205 923.5,-205 923.5,-199 929.5,-193 935.5,-193 935.5,-193 1035.5,-193 1035.5,-193 1041.5,-193 1047.5,-199 1047.5,-205 1047.5,-205 1047.5,-249 1047.5,-249 1047.5,-255 1041.5,-261 1035.5,-261\"/>\n<text text-anchor=\"middle\" x=\"985.5\" y=\"-245.8\" font-family=\"Helvetica,sans-Serif\" font-size=\"14.00\" fill=\"#000000\">Age &lt;= 28.75</text>\n<text text-anchor=\"middle\" x=\"985.5\" y=\"-230.8\" font-family=\"Helvetica,sans-Serif\" font-size=\"14.00\" fill=\"#000000\">gini = 0.25</text>\n<text text-anchor=\"middle\" x=\"985.5\" y=\"-215.8\" font-family=\"Helvetica,sans-Serif\" font-size=\"14.00\" fill=\"#000000\">samples = 219</text>\n<text text-anchor=\"middle\" x=\"985.5\" y=\"-200.8\" font-family=\"Helvetica,sans-Serif\" font-size=\"14.00\" fill=\"#000000\">value = [187, 32]</text>\n</g>\n<!-- 23&#45;&gt;24 -->\n<g id=\"edge24\" class=\"edge\">\n<title>23&#45;&gt;24</title>\n<path fill=\"none\" stroke=\"#000000\" d=\"M985.5,-296.9465C985.5,-288.776 985.5,-279.9318 985.5,-271.3697\"/>\n<polygon fill=\"#000000\" stroke=\"#000000\" points=\"989.0001,-271.13 985.5,-261.13 982.0001,-271.13 989.0001,-271.13\"/>\n</g>\n<!-- 31 -->\n<g id=\"node32\" class=\"node\">\n<title>31</title>\n<path fill=\"#e78a47\" stroke=\"#000000\" d=\"M1398,-261C1398,-261 1315,-261 1315,-261 1309,-261 1303,-255 1303,-249 1303,-249 1303,-205 1303,-205 1303,-199 1309,-193 1315,-193 1315,-193 1398,-193 1398,-193 1404,-193 1410,-199 1410,-205 1410,-205 1410,-249 1410,-249 1410,-255 1404,-261 1398,-261\"/>\n<text text-anchor=\"middle\" x=\"1356.5\" y=\"-245.8\" font-family=\"Helvetica,sans-Serif\" font-size=\"14.00\" fill=\"#000000\">Age &lt;= 61.5</text>\n<text text-anchor=\"middle\" x=\"1356.5\" y=\"-230.8\" font-family=\"Helvetica,sans-Serif\" font-size=\"14.00\" fill=\"#000000\">gini = 0.126</text>\n<text text-anchor=\"middle\" x=\"1356.5\" y=\"-215.8\" font-family=\"Helvetica,sans-Serif\" font-size=\"14.00\" fill=\"#000000\">samples = 74</text>\n<text text-anchor=\"middle\" x=\"1356.5\" y=\"-200.8\" font-family=\"Helvetica,sans-Serif\" font-size=\"14.00\" fill=\"#000000\">value = [69, 5]</text>\n</g>\n<!-- 23&#45;&gt;31 -->\n<g id=\"edge31\" class=\"edge\">\n<title>23&#45;&gt;31</title>\n<path fill=\"none\" stroke=\"#000000\" d=\"M1047.5971,-313.5927C1115.7222,-294.4957 1224.4864,-264.0065 1293.1176,-244.7676\"/>\n<polygon fill=\"#000000\" stroke=\"#000000\" points=\"1294.2586,-248.0827 1302.9427,-242.0134 1292.3691,-241.3425 1294.2586,-248.0827\"/>\n</g>\n<!-- 25 -->\n<g id=\"node26\" class=\"node\">\n<title>25</title>\n<path fill=\"#e89152\" stroke=\"#000000\" d=\"M966.5,-157C966.5,-157 866.5,-157 866.5,-157 860.5,-157 854.5,-151 854.5,-145 854.5,-145 854.5,-101 854.5,-101 854.5,-95 860.5,-89 866.5,-89 866.5,-89 966.5,-89 966.5,-89 972.5,-89 978.5,-95 978.5,-101 978.5,-101 978.5,-145 978.5,-145 978.5,-151 972.5,-157 966.5,-157\"/>\n<text text-anchor=\"middle\" x=\"916.5\" y=\"-141.8\" font-family=\"Helvetica,sans-Serif\" font-size=\"14.00\" fill=\"#000000\">Age &lt;= 13.0</text>\n<text text-anchor=\"middle\" x=\"916.5\" y=\"-126.8\" font-family=\"Helvetica,sans-Serif\" font-size=\"14.00\" fill=\"#000000\">gini = 0.202</text>\n<text text-anchor=\"middle\" x=\"916.5\" y=\"-111.8\" font-family=\"Helvetica,sans-Serif\" font-size=\"14.00\" fill=\"#000000\">samples = 193</text>\n<text text-anchor=\"middle\" x=\"916.5\" y=\"-96.8\" font-family=\"Helvetica,sans-Serif\" font-size=\"14.00\" fill=\"#000000\">value = [171, 22]</text>\n</g>\n<!-- 24&#45;&gt;25 -->\n<g id=\"edge25\" class=\"edge\">\n<title>24&#45;&gt;25</title>\n<path fill=\"none\" stroke=\"#000000\" d=\"M962.9068,-192.9465C957.1286,-184.2373 950.8425,-174.7626 944.8166,-165.6801\"/>\n<polygon fill=\"#000000\" stroke=\"#000000\" points=\"947.589,-163.5278 939.1439,-157.13 941.756,-167.3978 947.589,-163.5278\"/>\n</g>\n<!-- 28 -->\n<g id=\"node29\" class=\"node\">\n<title>28</title>\n<path fill=\"#f5d0b5\" stroke=\"#000000\" d=\"M1100.5,-157C1100.5,-157 1008.5,-157 1008.5,-157 1002.5,-157 996.5,-151 996.5,-145 996.5,-145 996.5,-101 996.5,-101 996.5,-95 1002.5,-89 1008.5,-89 1008.5,-89 1100.5,-89 1100.5,-89 1106.5,-89 1112.5,-95 1112.5,-101 1112.5,-101 1112.5,-145 1112.5,-145 1112.5,-151 1106.5,-157 1100.5,-157\"/>\n<text text-anchor=\"middle\" x=\"1054.5\" y=\"-141.8\" font-family=\"Helvetica,sans-Serif\" font-size=\"14.00\" fill=\"#000000\">Pclass &lt;= 2.5</text>\n<text text-anchor=\"middle\" x=\"1054.5\" y=\"-126.8\" font-family=\"Helvetica,sans-Serif\" font-size=\"14.00\" fill=\"#000000\">gini = 0.473</text>\n<text text-anchor=\"middle\" x=\"1054.5\" y=\"-111.8\" font-family=\"Helvetica,sans-Serif\" font-size=\"14.00\" fill=\"#000000\">samples = 26</text>\n<text text-anchor=\"middle\" x=\"1054.5\" y=\"-96.8\" font-family=\"Helvetica,sans-Serif\" font-size=\"14.00\" fill=\"#000000\">value = [16, 10]</text>\n</g>\n<!-- 24&#45;&gt;28 -->\n<g id=\"edge28\" class=\"edge\">\n<title>24&#45;&gt;28</title>\n<path fill=\"none\" stroke=\"#000000\" d=\"M1008.0932,-192.9465C1013.8714,-184.2373 1020.1575,-174.7626 1026.1834,-165.6801\"/>\n<polygon fill=\"#000000\" stroke=\"#000000\" points=\"1029.244,-167.3978 1031.8561,-157.13 1023.411,-163.5278 1029.244,-167.3978\"/>\n</g>\n<!-- 26 -->\n<g id=\"node27\" class=\"node\">\n<title>26</title>\n<path fill=\"#f0b78e\" stroke=\"#000000\" d=\"M828.5,-53C828.5,-53 748.5,-53 748.5,-53 742.5,-53 736.5,-47 736.5,-41 736.5,-41 736.5,-12 736.5,-12 736.5,-6 742.5,0 748.5,0 748.5,0 828.5,0 828.5,0 834.5,0 840.5,-6 840.5,-12 840.5,-12 840.5,-41 840.5,-41 840.5,-47 834.5,-53 828.5,-53\"/>\n<text text-anchor=\"middle\" x=\"788.5\" y=\"-37.8\" font-family=\"Helvetica,sans-Serif\" font-size=\"14.00\" fill=\"#000000\">gini = 0.42</text>\n<text text-anchor=\"middle\" x=\"788.5\" y=\"-22.8\" font-family=\"Helvetica,sans-Serif\" font-size=\"14.00\" fill=\"#000000\">samples = 10</text>\n<text text-anchor=\"middle\" x=\"788.5\" y=\"-7.8\" font-family=\"Helvetica,sans-Serif\" font-size=\"14.00\" fill=\"#000000\">value = [7, 3]</text>\n</g>\n<!-- 25&#45;&gt;26 -->\n<g id=\"edge26\" class=\"edge\">\n<title>25&#45;&gt;26</title>\n<path fill=\"none\" stroke=\"#000000\" d=\"M871.372,-88.9777C858.6187,-79.3629 844.7673,-68.9203 832.1053,-59.3743\"/>\n<polygon fill=\"#000000\" stroke=\"#000000\" points=\"834.0719,-56.4737 823.9798,-53.2485 829.8579,-62.0632 834.0719,-56.4737\"/>\n</g>\n<!-- 27 -->\n<g id=\"node28\" class=\"node\">\n<title>27</title>\n<path fill=\"#e89050\" stroke=\"#000000\" d=\"M970.5,-53C970.5,-53 870.5,-53 870.5,-53 864.5,-53 858.5,-47 858.5,-41 858.5,-41 858.5,-12 858.5,-12 858.5,-6 864.5,0 870.5,0 870.5,0 970.5,0 970.5,0 976.5,0 982.5,-6 982.5,-12 982.5,-12 982.5,-41 982.5,-41 982.5,-47 976.5,-53 970.5,-53\"/>\n<text text-anchor=\"middle\" x=\"920.5\" y=\"-37.8\" font-family=\"Helvetica,sans-Serif\" font-size=\"14.00\" fill=\"#000000\">gini = 0.186</text>\n<text text-anchor=\"middle\" x=\"920.5\" y=\"-22.8\" font-family=\"Helvetica,sans-Serif\" font-size=\"14.00\" fill=\"#000000\">samples = 183</text>\n<text text-anchor=\"middle\" x=\"920.5\" y=\"-7.8\" font-family=\"Helvetica,sans-Serif\" font-size=\"14.00\" fill=\"#000000\">value = [164, 19]</text>\n</g>\n<!-- 25&#45;&gt;27 -->\n<g id=\"edge27\" class=\"edge\">\n<title>25&#45;&gt;27</title>\n<path fill=\"none\" stroke=\"#000000\" d=\"M917.9103,-88.9777C918.2519,-80.7364 918.6187,-71.887 918.9657,-63.5153\"/>\n<polygon fill=\"#000000\" stroke=\"#000000\" points=\"922.474,-63.3849 919.3913,-53.2485 915.48,-63.0949 922.474,-63.3849\"/>\n</g>\n<!-- 29 -->\n<g id=\"node30\" class=\"node\">\n<title>29</title>\n<path fill=\"#e99355\" stroke=\"#000000\" d=\"M1088,-53C1088,-53 1013,-53 1013,-53 1007,-53 1001,-47 1001,-41 1001,-41 1001,-12 1001,-12 1001,-6 1007,0 1013,0 1013,0 1088,0 1088,0 1094,0 1100,-6 1100,-12 1100,-12 1100,-41 1100,-41 1100,-47 1094,-53 1088,-53\"/>\n<text text-anchor=\"middle\" x=\"1050.5\" y=\"-37.8\" font-family=\"Helvetica,sans-Serif\" font-size=\"14.00\" fill=\"#000000\">gini = 0.219</text>\n<text text-anchor=\"middle\" x=\"1050.5\" y=\"-22.8\" font-family=\"Helvetica,sans-Serif\" font-size=\"14.00\" fill=\"#000000\">samples = 8</text>\n<text text-anchor=\"middle\" x=\"1050.5\" y=\"-7.8\" font-family=\"Helvetica,sans-Serif\" font-size=\"14.00\" fill=\"#000000\">value = [7, 1]</text>\n</g>\n<!-- 28&#45;&gt;29 -->\n<g id=\"edge29\" class=\"edge\">\n<title>28&#45;&gt;29</title>\n<path fill=\"none\" stroke=\"#000000\" d=\"M1053.0897,-88.9777C1052.7481,-80.7364 1052.3813,-71.887 1052.0343,-63.5153\"/>\n<polygon fill=\"#000000\" stroke=\"#000000\" points=\"1055.52,-63.0949 1051.6087,-53.2485 1048.526,-63.3849 1055.52,-63.0949\"/>\n</g>\n<!-- 30 -->\n<g id=\"node31\" class=\"node\">\n<title>30</title>\n<path fill=\"#ffffff\" stroke=\"#000000\" d=\"M1210.5,-53C1210.5,-53 1130.5,-53 1130.5,-53 1124.5,-53 1118.5,-47 1118.5,-41 1118.5,-41 1118.5,-12 1118.5,-12 1118.5,-6 1124.5,0 1130.5,0 1130.5,0 1210.5,0 1210.5,0 1216.5,0 1222.5,-6 1222.5,-12 1222.5,-12 1222.5,-41 1222.5,-41 1222.5,-47 1216.5,-53 1210.5,-53\"/>\n<text text-anchor=\"middle\" x=\"1170.5\" y=\"-37.8\" font-family=\"Helvetica,sans-Serif\" font-size=\"14.00\" fill=\"#000000\">gini = 0.5</text>\n<text text-anchor=\"middle\" x=\"1170.5\" y=\"-22.8\" font-family=\"Helvetica,sans-Serif\" font-size=\"14.00\" fill=\"#000000\">samples = 18</text>\n<text text-anchor=\"middle\" x=\"1170.5\" y=\"-7.8\" font-family=\"Helvetica,sans-Serif\" font-size=\"14.00\" fill=\"#000000\">value = [9, 9]</text>\n</g>\n<!-- 28&#45;&gt;30 -->\n<g id=\"edge30\" class=\"edge\">\n<title>28&#45;&gt;30</title>\n<path fill=\"none\" stroke=\"#000000\" d=\"M1095.3973,-88.9777C1106.8449,-79.4545 1119.2687,-69.1191 1130.6545,-59.6473\"/>\n<polygon fill=\"#000000\" stroke=\"#000000\" points=\"1132.8971,-62.3345 1138.3464,-53.2485 1128.4203,-56.9532 1132.8971,-62.3345\"/>\n</g>\n<!-- 32 -->\n<g id=\"node33\" class=\"node\">\n<title>32</title>\n<path fill=\"#e78945\" stroke=\"#000000\" d=\"M1398,-157C1398,-157 1315,-157 1315,-157 1309,-157 1303,-151 1303,-145 1303,-145 1303,-101 1303,-101 1303,-95 1309,-89 1315,-89 1315,-89 1398,-89 1398,-89 1404,-89 1410,-95 1410,-101 1410,-101 1410,-145 1410,-145 1410,-151 1404,-157 1398,-157\"/>\n<text text-anchor=\"middle\" x=\"1356.5\" y=\"-141.8\" font-family=\"Helvetica,sans-Serif\" font-size=\"14.00\" fill=\"#000000\">Age &lt;= 45.25</text>\n<text text-anchor=\"middle\" x=\"1356.5\" y=\"-126.8\" font-family=\"Helvetica,sans-Serif\" font-size=\"14.00\" fill=\"#000000\">gini = 0.108</text>\n<text text-anchor=\"middle\" x=\"1356.5\" y=\"-111.8\" font-family=\"Helvetica,sans-Serif\" font-size=\"14.00\" fill=\"#000000\">samples = 70</text>\n<text text-anchor=\"middle\" x=\"1356.5\" y=\"-96.8\" font-family=\"Helvetica,sans-Serif\" font-size=\"14.00\" fill=\"#000000\">value = [66, 4]</text>\n</g>\n<!-- 31&#45;&gt;32 -->\n<g id=\"edge32\" class=\"edge\">\n<title>31&#45;&gt;32</title>\n<path fill=\"none\" stroke=\"#000000\" d=\"M1356.5,-192.9465C1356.5,-184.776 1356.5,-175.9318 1356.5,-167.3697\"/>\n<polygon fill=\"#000000\" stroke=\"#000000\" points=\"1360.0001,-167.13 1356.5,-157.13 1353.0001,-167.13 1360.0001,-167.13\"/>\n</g>\n<!-- 35 -->\n<g id=\"node36\" class=\"node\">\n<title>35</title>\n<path fill=\"#eeab7b\" stroke=\"#000000\" d=\"M1578,-157C1578,-157 1503,-157 1503,-157 1497,-157 1491,-151 1491,-145 1491,-145 1491,-101 1491,-101 1491,-95 1497,-89 1503,-89 1503,-89 1578,-89 1578,-89 1584,-89 1590,-95 1590,-101 1590,-101 1590,-145 1590,-145 1590,-151 1584,-157 1578,-157\"/>\n<text text-anchor=\"middle\" x=\"1540.5\" y=\"-141.8\" font-family=\"Helvetica,sans-Serif\" font-size=\"14.00\" fill=\"#000000\">Age &lt;= 64.0</text>\n<text text-anchor=\"middle\" x=\"1540.5\" y=\"-126.8\" font-family=\"Helvetica,sans-Serif\" font-size=\"14.00\" fill=\"#000000\">gini = 0.375</text>\n<text text-anchor=\"middle\" x=\"1540.5\" y=\"-111.8\" font-family=\"Helvetica,sans-Serif\" font-size=\"14.00\" fill=\"#000000\">samples = 4</text>\n<text text-anchor=\"middle\" x=\"1540.5\" y=\"-96.8\" font-family=\"Helvetica,sans-Serif\" font-size=\"14.00\" fill=\"#000000\">value = [3, 1]</text>\n</g>\n<!-- 31&#45;&gt;35 -->\n<g id=\"edge35\" class=\"edge\">\n<title>31&#45;&gt;35</title>\n<path fill=\"none\" stroke=\"#000000\" d=\"M1410.215,-196.6393C1432.6896,-183.9363 1458.8741,-169.1364 1481.8494,-156.1503\"/>\n<polygon fill=\"#000000\" stroke=\"#000000\" points=\"1483.8296,-159.0515 1490.813,-151.0839 1480.3852,-152.9576 1483.8296,-159.0515\"/>\n</g>\n<!-- 33 -->\n<g id=\"node34\" class=\"node\">\n<title>33</title>\n<path fill=\"#e78d4b\" stroke=\"#000000\" d=\"M1336,-53C1336,-53 1253,-53 1253,-53 1247,-53 1241,-47 1241,-41 1241,-41 1241,-12 1241,-12 1241,-6 1247,0 1253,0 1253,0 1336,0 1336,0 1342,0 1348,-6 1348,-12 1348,-12 1348,-41 1348,-41 1348,-47 1342,-53 1336,-53\"/>\n<text text-anchor=\"middle\" x=\"1294.5\" y=\"-37.8\" font-family=\"Helvetica,sans-Serif\" font-size=\"14.00\" fill=\"#000000\">gini = 0.156</text>\n<text text-anchor=\"middle\" x=\"1294.5\" y=\"-22.8\" font-family=\"Helvetica,sans-Serif\" font-size=\"14.00\" fill=\"#000000\">samples = 47</text>\n<text text-anchor=\"middle\" x=\"1294.5\" y=\"-7.8\" font-family=\"Helvetica,sans-Serif\" font-size=\"14.00\" fill=\"#000000\">value = [43, 4]</text>\n</g>\n<!-- 32&#45;&gt;33 -->\n<g id=\"edge33\" class=\"edge\">\n<title>32&#45;&gt;33</title>\n<path fill=\"none\" stroke=\"#000000\" d=\"M1334.6411,-88.9777C1328.9932,-80.187 1322.9007,-70.7044 1317.2104,-61.8477\"/>\n<polygon fill=\"#000000\" stroke=\"#000000\" points=\"1320.0356,-59.7698 1311.6856,-53.2485 1314.1463,-63.5536 1320.0356,-59.7698\"/>\n</g>\n<!-- 34 -->\n<g id=\"node35\" class=\"node\">\n<title>34</title>\n<path fill=\"#e58139\" stroke=\"#000000\" d=\"M1461,-53C1461,-53 1378,-53 1378,-53 1372,-53 1366,-47 1366,-41 1366,-41 1366,-12 1366,-12 1366,-6 1372,0 1378,0 1378,0 1461,0 1461,0 1467,0 1473,-6 1473,-12 1473,-12 1473,-41 1473,-41 1473,-47 1467,-53 1461,-53\"/>\n<text text-anchor=\"middle\" x=\"1419.5\" y=\"-37.8\" font-family=\"Helvetica,sans-Serif\" font-size=\"14.00\" fill=\"#000000\">gini = 0.0</text>\n<text text-anchor=\"middle\" x=\"1419.5\" y=\"-22.8\" font-family=\"Helvetica,sans-Serif\" font-size=\"14.00\" fill=\"#000000\">samples = 23</text>\n<text text-anchor=\"middle\" x=\"1419.5\" y=\"-7.8\" font-family=\"Helvetica,sans-Serif\" font-size=\"14.00\" fill=\"#000000\">value = [23, 0]</text>\n</g>\n<!-- 32&#45;&gt;34 -->\n<g id=\"edge34\" class=\"edge\">\n<title>32&#45;&gt;34</title>\n<path fill=\"none\" stroke=\"#000000\" d=\"M1378.7114,-88.9777C1384.4504,-80.187 1390.6412,-70.7044 1396.4233,-61.8477\"/>\n<polygon fill=\"#000000\" stroke=\"#000000\" points=\"1399.5013,-63.5354 1402.0373,-53.2485 1393.6398,-59.7087 1399.5013,-63.5354\"/>\n</g>\n<!-- 36 -->\n<g id=\"node37\" class=\"node\">\n<title>36</title>\n<path fill=\"#399de5\" stroke=\"#000000\" d=\"M1578,-53C1578,-53 1503,-53 1503,-53 1497,-53 1491,-47 1491,-41 1491,-41 1491,-12 1491,-12 1491,-6 1497,0 1503,0 1503,0 1578,0 1578,0 1584,0 1590,-6 1590,-12 1590,-12 1590,-41 1590,-41 1590,-47 1584,-53 1578,-53\"/>\n<text text-anchor=\"middle\" x=\"1540.5\" y=\"-37.8\" font-family=\"Helvetica,sans-Serif\" font-size=\"14.00\" fill=\"#000000\">gini = 0.0</text>\n<text text-anchor=\"middle\" x=\"1540.5\" y=\"-22.8\" font-family=\"Helvetica,sans-Serif\" font-size=\"14.00\" fill=\"#000000\">samples = 1</text>\n<text text-anchor=\"middle\" x=\"1540.5\" y=\"-7.8\" font-family=\"Helvetica,sans-Serif\" font-size=\"14.00\" fill=\"#000000\">value = [0, 1]</text>\n</g>\n<!-- 35&#45;&gt;36 -->\n<g id=\"edge36\" class=\"edge\">\n<title>35&#45;&gt;36</title>\n<path fill=\"none\" stroke=\"#000000\" d=\"M1540.5,-88.9777C1540.5,-80.7364 1540.5,-71.887 1540.5,-63.5153\"/>\n<polygon fill=\"#000000\" stroke=\"#000000\" points=\"1544.0001,-63.2484 1540.5,-53.2485 1537.0001,-63.2485 1544.0001,-63.2484\"/>\n</g>\n<!-- 37 -->\n<g id=\"node38\" class=\"node\">\n<title>37</title>\n<path fill=\"#e58139\" stroke=\"#000000\" d=\"M1695,-53C1695,-53 1620,-53 1620,-53 1614,-53 1608,-47 1608,-41 1608,-41 1608,-12 1608,-12 1608,-6 1614,0 1620,0 1620,0 1695,0 1695,0 1701,0 1707,-6 1707,-12 1707,-12 1707,-41 1707,-41 1707,-47 1701,-53 1695,-53\"/>\n<text text-anchor=\"middle\" x=\"1657.5\" y=\"-37.8\" font-family=\"Helvetica,sans-Serif\" font-size=\"14.00\" fill=\"#000000\">gini = 0.0</text>\n<text text-anchor=\"middle\" x=\"1657.5\" y=\"-22.8\" font-family=\"Helvetica,sans-Serif\" font-size=\"14.00\" fill=\"#000000\">samples = 3</text>\n<text text-anchor=\"middle\" x=\"1657.5\" y=\"-7.8\" font-family=\"Helvetica,sans-Serif\" font-size=\"14.00\" fill=\"#000000\">value = [3, 0]</text>\n</g>\n<!-- 35&#45;&gt;37 -->\n<g id=\"edge37\" class=\"edge\">\n<title>35&#45;&gt;37</title>\n<path fill=\"none\" stroke=\"#000000\" d=\"M1581.7498,-88.9777C1593.2961,-79.4545 1605.8271,-69.1191 1617.311,-59.6473\"/>\n<polygon fill=\"#000000\" stroke=\"#000000\" points=\"1619.5816,-62.3115 1625.0692,-53.2485 1615.1276,-56.9113 1619.5816,-62.3115\"/>\n</g>\n<!-- 39 -->\n<g id=\"node40\" class=\"node\">\n<title>39</title>\n<path fill=\"#40a0e6\" stroke=\"#000000\" d=\"M1999.5,-469C1999.5,-469 1907.5,-469 1907.5,-469 1901.5,-469 1895.5,-463 1895.5,-457 1895.5,-457 1895.5,-413 1895.5,-413 1895.5,-407 1901.5,-401 1907.5,-401 1907.5,-401 1999.5,-401 1999.5,-401 2005.5,-401 2011.5,-407 2011.5,-413 2011.5,-413 2011.5,-457 2011.5,-457 2011.5,-463 2005.5,-469 1999.5,-469\"/>\n<text text-anchor=\"middle\" x=\"1953.5\" y=\"-453.8\" font-family=\"Helvetica,sans-Serif\" font-size=\"14.00\" fill=\"#000000\">Age &lt;= 2.5</text>\n<text text-anchor=\"middle\" x=\"1953.5\" y=\"-438.8\" font-family=\"Helvetica,sans-Serif\" font-size=\"14.00\" fill=\"#000000\">gini = 0.065</text>\n<text text-anchor=\"middle\" x=\"1953.5\" y=\"-423.8\" font-family=\"Helvetica,sans-Serif\" font-size=\"14.00\" fill=\"#000000\">samples = 118</text>\n<text text-anchor=\"middle\" x=\"1953.5\" y=\"-408.8\" font-family=\"Helvetica,sans-Serif\" font-size=\"14.00\" fill=\"#000000\">value = [4, 114]</text>\n</g>\n<!-- 38&#45;&gt;39 -->\n<g id=\"edge39\" class=\"edge\">\n<title>38&#45;&gt;39</title>\n<path fill=\"none\" stroke=\"#000000\" d=\"M1953.5,-504.9465C1953.5,-496.776 1953.5,-487.9318 1953.5,-479.3697\"/>\n<polygon fill=\"#000000\" stroke=\"#000000\" points=\"1957.0001,-479.13 1953.5,-469.13 1950.0001,-479.13 1957.0001,-479.13\"/>\n</g>\n<!-- 52 -->\n<g id=\"node53\" class=\"node\">\n<title>52</title>\n<path fill=\"#fffdfb\" stroke=\"#000000\" d=\"M2602.5,-469C2602.5,-469 2510.5,-469 2510.5,-469 2504.5,-469 2498.5,-463 2498.5,-457 2498.5,-457 2498.5,-413 2498.5,-413 2498.5,-407 2504.5,-401 2510.5,-401 2510.5,-401 2602.5,-401 2602.5,-401 2608.5,-401 2614.5,-407 2614.5,-413 2614.5,-413 2614.5,-457 2614.5,-457 2614.5,-463 2608.5,-469 2602.5,-469\"/>\n<text text-anchor=\"middle\" x=\"2556.5\" y=\"-453.8\" font-family=\"Helvetica,sans-Serif\" font-size=\"14.00\" fill=\"#000000\">Parch &lt;= 2.5</text>\n<text text-anchor=\"middle\" x=\"2556.5\" y=\"-438.8\" font-family=\"Helvetica,sans-Serif\" font-size=\"14.00\" fill=\"#000000\">gini = 0.5</text>\n<text text-anchor=\"middle\" x=\"2556.5\" y=\"-423.8\" font-family=\"Helvetica,sans-Serif\" font-size=\"14.00\" fill=\"#000000\">samples = 107</text>\n<text text-anchor=\"middle\" x=\"2556.5\" y=\"-408.8\" font-family=\"Helvetica,sans-Serif\" font-size=\"14.00\" fill=\"#000000\">value = [54, 53]</text>\n</g>\n<!-- 38&#45;&gt;52 -->\n<g id=\"edge52\" class=\"edge\">\n<title>38&#45;&gt;52</title>\n<path fill=\"none\" stroke=\"#000000\" d=\"M2015.7604,-528.2619C2129.4991,-508.6453 2370.0121,-467.1638 2488.1285,-446.7921\"/>\n<polygon fill=\"#000000\" stroke=\"#000000\" points=\"2488.8786,-450.2145 2498.1382,-445.0657 2487.6888,-443.3163 2488.8786,-450.2145\"/>\n</g>\n<!-- 40 -->\n<g id=\"node41\" class=\"node\">\n<title>40</title>\n<path fill=\"#e58139\" stroke=\"#000000\" d=\"M1928,-357.5C1928,-357.5 1853,-357.5 1853,-357.5 1847,-357.5 1841,-351.5 1841,-345.5 1841,-345.5 1841,-316.5 1841,-316.5 1841,-310.5 1847,-304.5 1853,-304.5 1853,-304.5 1928,-304.5 1928,-304.5 1934,-304.5 1940,-310.5 1940,-316.5 1940,-316.5 1940,-345.5 1940,-345.5 1940,-351.5 1934,-357.5 1928,-357.5\"/>\n<text text-anchor=\"middle\" x=\"1890.5\" y=\"-342.3\" font-family=\"Helvetica,sans-Serif\" font-size=\"14.00\" fill=\"#000000\">gini = 0.0</text>\n<text text-anchor=\"middle\" x=\"1890.5\" y=\"-327.3\" font-family=\"Helvetica,sans-Serif\" font-size=\"14.00\" fill=\"#000000\">samples = 1</text>\n<text text-anchor=\"middle\" x=\"1890.5\" y=\"-312.3\" font-family=\"Helvetica,sans-Serif\" font-size=\"14.00\" fill=\"#000000\">value = [1, 0]</text>\n</g>\n<!-- 39&#45;&gt;40 -->\n<g id=\"edge40\" class=\"edge\">\n<title>39&#45;&gt;40</title>\n<path fill=\"none\" stroke=\"#000000\" d=\"M1932.8714,-400.9465C1926.1322,-389.8215 1918.6363,-377.4473 1911.8455,-366.237\"/>\n<polygon fill=\"#000000\" stroke=\"#000000\" points=\"1914.7533,-364.2818 1906.5784,-357.5422 1908.7661,-367.9087 1914.7533,-364.2818\"/>\n</g>\n<!-- 41 -->\n<g id=\"node42\" class=\"node\">\n<title>41</title>\n<path fill=\"#3ea0e6\" stroke=\"#000000\" d=\"M2062.5,-365C2062.5,-365 1970.5,-365 1970.5,-365 1964.5,-365 1958.5,-359 1958.5,-353 1958.5,-353 1958.5,-309 1958.5,-309 1958.5,-303 1964.5,-297 1970.5,-297 1970.5,-297 2062.5,-297 2062.5,-297 2068.5,-297 2074.5,-303 2074.5,-309 2074.5,-309 2074.5,-353 2074.5,-353 2074.5,-359 2068.5,-365 2062.5,-365\"/>\n<text text-anchor=\"middle\" x=\"2016.5\" y=\"-349.8\" font-family=\"Helvetica,sans-Serif\" font-size=\"14.00\" fill=\"#000000\">Age &lt;= 49.5</text>\n<text text-anchor=\"middle\" x=\"2016.5\" y=\"-334.8\" font-family=\"Helvetica,sans-Serif\" font-size=\"14.00\" fill=\"#000000\">gini = 0.05</text>\n<text text-anchor=\"middle\" x=\"2016.5\" y=\"-319.8\" font-family=\"Helvetica,sans-Serif\" font-size=\"14.00\" fill=\"#000000\">samples = 117</text>\n<text text-anchor=\"middle\" x=\"2016.5\" y=\"-304.8\" font-family=\"Helvetica,sans-Serif\" font-size=\"14.00\" fill=\"#000000\">value = [3, 114]</text>\n</g>\n<!-- 39&#45;&gt;41 -->\n<g id=\"edge41\" class=\"edge\">\n<title>39&#45;&gt;41</title>\n<path fill=\"none\" stroke=\"#000000\" d=\"M1974.1286,-400.9465C1979.3499,-392.3271 1985.0255,-382.9579 1990.4755,-373.9611\"/>\n<polygon fill=\"#000000\" stroke=\"#000000\" points=\"1993.6374,-375.4965 1995.8251,-365.13 1987.6503,-371.8697 1993.6374,-375.4965\"/>\n</g>\n<!-- 42 -->\n<g id=\"node43\" class=\"node\">\n<title>42</title>\n<path fill=\"#3b9ee5\" stroke=\"#000000\" d=\"M1996.5,-261C1996.5,-261 1908.5,-261 1908.5,-261 1902.5,-261 1896.5,-255 1896.5,-249 1896.5,-249 1896.5,-205 1896.5,-205 1896.5,-199 1902.5,-193 1908.5,-193 1908.5,-193 1996.5,-193 1996.5,-193 2002.5,-193 2008.5,-199 2008.5,-205 2008.5,-205 2008.5,-249 2008.5,-249 2008.5,-255 2002.5,-261 1996.5,-261\"/>\n<text text-anchor=\"middle\" x=\"1952.5\" y=\"-245.8\" font-family=\"Helvetica,sans-Serif\" font-size=\"14.00\" fill=\"#000000\">Age &lt;= 26.5</text>\n<text text-anchor=\"middle\" x=\"1952.5\" y=\"-230.8\" font-family=\"Helvetica,sans-Serif\" font-size=\"14.00\" fill=\"#000000\">gini = 0.02</text>\n<text text-anchor=\"middle\" x=\"1952.5\" y=\"-215.8\" font-family=\"Helvetica,sans-Serif\" font-size=\"14.00\" fill=\"#000000\">samples = 100</text>\n<text text-anchor=\"middle\" x=\"1952.5\" y=\"-200.8\" font-family=\"Helvetica,sans-Serif\" font-size=\"14.00\" fill=\"#000000\">value = [1, 99]</text>\n</g>\n<!-- 41&#45;&gt;42 -->\n<g id=\"edge42\" class=\"edge\">\n<title>41&#45;&gt;42</title>\n<path fill=\"none\" stroke=\"#000000\" d=\"M1995.544,-296.9465C1990.1845,-288.2373 1984.3539,-278.7626 1978.7647,-269.6801\"/>\n<polygon fill=\"#000000\" stroke=\"#000000\" points=\"1981.7249,-267.8122 1973.5031,-261.13 1975.7633,-271.481 1981.7249,-267.8122\"/>\n</g>\n<!-- 47 -->\n<g id=\"node48\" class=\"node\">\n<title>47</title>\n<path fill=\"#53aae8\" stroke=\"#000000\" d=\"M2122,-261C2122,-261 2039,-261 2039,-261 2033,-261 2027,-255 2027,-249 2027,-249 2027,-205 2027,-205 2027,-199 2033,-193 2039,-193 2039,-193 2122,-193 2122,-193 2128,-193 2134,-199 2134,-205 2134,-205 2134,-249 2134,-249 2134,-255 2128,-261 2122,-261\"/>\n<text text-anchor=\"middle\" x=\"2080.5\" y=\"-245.8\" font-family=\"Helvetica,sans-Serif\" font-size=\"14.00\" fill=\"#000000\">SibSp &lt;= 0.5</text>\n<text text-anchor=\"middle\" x=\"2080.5\" y=\"-230.8\" font-family=\"Helvetica,sans-Serif\" font-size=\"14.00\" fill=\"#000000\">gini = 0.208</text>\n<text text-anchor=\"middle\" x=\"2080.5\" y=\"-215.8\" font-family=\"Helvetica,sans-Serif\" font-size=\"14.00\" fill=\"#000000\">samples = 17</text>\n<text text-anchor=\"middle\" x=\"2080.5\" y=\"-200.8\" font-family=\"Helvetica,sans-Serif\" font-size=\"14.00\" fill=\"#000000\">value = [2, 15]</text>\n</g>\n<!-- 41&#45;&gt;47 -->\n<g id=\"edge47\" class=\"edge\">\n<title>41&#45;&gt;47</title>\n<path fill=\"none\" stroke=\"#000000\" d=\"M2037.456,-296.9465C2042.8155,-288.2373 2048.6461,-278.7626 2054.2353,-269.6801\"/>\n<polygon fill=\"#000000\" stroke=\"#000000\" points=\"2057.2367,-271.481 2059.4969,-261.13 2051.2751,-267.8122 2057.2367,-271.481\"/>\n</g>\n<!-- 43 -->\n<g id=\"node44\" class=\"node\">\n<title>43</title>\n<path fill=\"#3fa0e6\" stroke=\"#000000\" d=\"M1870,-157C1870,-157 1787,-157 1787,-157 1781,-157 1775,-151 1775,-145 1775,-145 1775,-101 1775,-101 1775,-95 1781,-89 1787,-89 1787,-89 1870,-89 1870,-89 1876,-89 1882,-95 1882,-101 1882,-101 1882,-145 1882,-145 1882,-151 1876,-157 1870,-157\"/>\n<text text-anchor=\"middle\" x=\"1828.5\" y=\"-141.8\" font-family=\"Helvetica,sans-Serif\" font-size=\"14.00\" fill=\"#000000\">Age &lt;= 25.5</text>\n<text text-anchor=\"middle\" x=\"1828.5\" y=\"-126.8\" font-family=\"Helvetica,sans-Serif\" font-size=\"14.00\" fill=\"#000000\">gini = 0.056</text>\n<text text-anchor=\"middle\" x=\"1828.5\" y=\"-111.8\" font-family=\"Helvetica,sans-Serif\" font-size=\"14.00\" fill=\"#000000\">samples = 35</text>\n<text text-anchor=\"middle\" x=\"1828.5\" y=\"-96.8\" font-family=\"Helvetica,sans-Serif\" font-size=\"14.00\" fill=\"#000000\">value = [1, 34]</text>\n</g>\n<!-- 42&#45;&gt;43 -->\n<g id=\"edge43\" class=\"edge\">\n<title>42&#45;&gt;43</title>\n<path fill=\"none\" stroke=\"#000000\" d=\"M1911.8978,-192.9465C1900.7644,-183.6088 1888.5817,-173.3911 1877.0511,-163.7203\"/>\n<polygon fill=\"#000000\" stroke=\"#000000\" points=\"1879.1046,-160.8745 1869.1935,-157.13 1874.6062,-166.2378 1879.1046,-160.8745\"/>\n</g>\n<!-- 46 -->\n<g id=\"node47\" class=\"node\">\n<title>46</title>\n<path fill=\"#399de5\" stroke=\"#000000\" d=\"M1995,-149.5C1995,-149.5 1912,-149.5 1912,-149.5 1906,-149.5 1900,-143.5 1900,-137.5 1900,-137.5 1900,-108.5 1900,-108.5 1900,-102.5 1906,-96.5 1912,-96.5 1912,-96.5 1995,-96.5 1995,-96.5 2001,-96.5 2007,-102.5 2007,-108.5 2007,-108.5 2007,-137.5 2007,-137.5 2007,-143.5 2001,-149.5 1995,-149.5\"/>\n<text text-anchor=\"middle\" x=\"1953.5\" y=\"-134.3\" font-family=\"Helvetica,sans-Serif\" font-size=\"14.00\" fill=\"#000000\">gini = 0.0</text>\n<text text-anchor=\"middle\" x=\"1953.5\" y=\"-119.3\" font-family=\"Helvetica,sans-Serif\" font-size=\"14.00\" fill=\"#000000\">samples = 65</text>\n<text text-anchor=\"middle\" x=\"1953.5\" y=\"-104.3\" font-family=\"Helvetica,sans-Serif\" font-size=\"14.00\" fill=\"#000000\">value = [0, 65]</text>\n</g>\n<!-- 42&#45;&gt;46 -->\n<g id=\"edge46\" class=\"edge\">\n<title>42&#45;&gt;46</title>\n<path fill=\"none\" stroke=\"#000000\" d=\"M1952.8274,-192.9465C1952.9302,-182.2621 1953.044,-170.4254 1953.1483,-159.5742\"/>\n<polygon fill=\"#000000\" stroke=\"#000000\" points=\"1956.6484,-159.5754 1953.2448,-149.5422 1949.6487,-159.508 1956.6484,-159.5754\"/>\n</g>\n<!-- 44 -->\n<g id=\"node45\" class=\"node\">\n<title>44</title>\n<path fill=\"#399de5\" stroke=\"#000000\" d=\"M1820,-53C1820,-53 1737,-53 1737,-53 1731,-53 1725,-47 1725,-41 1725,-41 1725,-12 1725,-12 1725,-6 1731,0 1737,0 1737,0 1820,0 1820,0 1826,0 1832,-6 1832,-12 1832,-12 1832,-41 1832,-41 1832,-47 1826,-53 1820,-53\"/>\n<text text-anchor=\"middle\" x=\"1778.5\" y=\"-37.8\" font-family=\"Helvetica,sans-Serif\" font-size=\"14.00\" fill=\"#000000\">gini = 0.0</text>\n<text text-anchor=\"middle\" x=\"1778.5\" y=\"-22.8\" font-family=\"Helvetica,sans-Serif\" font-size=\"14.00\" fill=\"#000000\">samples = 33</text>\n<text text-anchor=\"middle\" x=\"1778.5\" y=\"-7.8\" font-family=\"Helvetica,sans-Serif\" font-size=\"14.00\" fill=\"#000000\">value = [0, 33]</text>\n</g>\n<!-- 43&#45;&gt;44 -->\n<g id=\"edge44\" class=\"edge\">\n<title>43&#45;&gt;44</title>\n<path fill=\"none\" stroke=\"#000000\" d=\"M1810.8719,-88.9777C1806.412,-80.3702 1801.6084,-71.0992 1797.1021,-62.402\"/>\n<polygon fill=\"#000000\" stroke=\"#000000\" points=\"1800.0675,-60.5172 1792.3593,-53.2485 1793.8522,-63.7376 1800.0675,-60.5172\"/>\n</g>\n<!-- 45 -->\n<g id=\"node46\" class=\"node\">\n<title>45</title>\n<path fill=\"#ffffff\" stroke=\"#000000\" d=\"M1937,-53C1937,-53 1862,-53 1862,-53 1856,-53 1850,-47 1850,-41 1850,-41 1850,-12 1850,-12 1850,-6 1856,0 1862,0 1862,0 1937,0 1937,0 1943,0 1949,-6 1949,-12 1949,-12 1949,-41 1949,-41 1949,-47 1943,-53 1937,-53\"/>\n<text text-anchor=\"middle\" x=\"1899.5\" y=\"-37.8\" font-family=\"Helvetica,sans-Serif\" font-size=\"14.00\" fill=\"#000000\">gini = 0.5</text>\n<text text-anchor=\"middle\" x=\"1899.5\" y=\"-22.8\" font-family=\"Helvetica,sans-Serif\" font-size=\"14.00\" fill=\"#000000\">samples = 2</text>\n<text text-anchor=\"middle\" x=\"1899.5\" y=\"-7.8\" font-family=\"Helvetica,sans-Serif\" font-size=\"14.00\" fill=\"#000000\">value = [1, 1]</text>\n</g>\n<!-- 43&#45;&gt;45 -->\n<g id=\"edge45\" class=\"edge\">\n<title>43&#45;&gt;45</title>\n<path fill=\"none\" stroke=\"#000000\" d=\"M1853.5319,-88.9777C1860.0671,-80.0954 1867.122,-70.5067 1873.6964,-61.5711\"/>\n<polygon fill=\"#000000\" stroke=\"#000000\" points=\"1876.7126,-63.3775 1879.8198,-53.2485 1871.0743,-59.229 1876.7126,-63.3775\"/>\n</g>\n<!-- 48 -->\n<g id=\"node49\" class=\"node\">\n<title>48</title>\n<path fill=\"#65b3eb\" stroke=\"#000000\" d=\"M2118.5,-157C2118.5,-157 2038.5,-157 2038.5,-157 2032.5,-157 2026.5,-151 2026.5,-145 2026.5,-145 2026.5,-101 2026.5,-101 2026.5,-95 2032.5,-89 2038.5,-89 2038.5,-89 2118.5,-89 2118.5,-89 2124.5,-89 2130.5,-95 2130.5,-101 2130.5,-101 2130.5,-145 2130.5,-145 2130.5,-151 2124.5,-157 2118.5,-157\"/>\n<text text-anchor=\"middle\" x=\"2078.5\" y=\"-141.8\" font-family=\"Helvetica,sans-Serif\" font-size=\"14.00\" fill=\"#000000\">Age &lt;= 50.5</text>\n<text text-anchor=\"middle\" x=\"2078.5\" y=\"-126.8\" font-family=\"Helvetica,sans-Serif\" font-size=\"14.00\" fill=\"#000000\">gini = 0.298</text>\n<text text-anchor=\"middle\" x=\"2078.5\" y=\"-111.8\" font-family=\"Helvetica,sans-Serif\" font-size=\"14.00\" fill=\"#000000\">samples = 11</text>\n<text text-anchor=\"middle\" x=\"2078.5\" y=\"-96.8\" font-family=\"Helvetica,sans-Serif\" font-size=\"14.00\" fill=\"#000000\">value = [2, 9]</text>\n</g>\n<!-- 47&#45;&gt;48 -->\n<g id=\"edge48\" class=\"edge\">\n<title>47&#45;&gt;48</title>\n<path fill=\"none\" stroke=\"#000000\" d=\"M2079.8451,-192.9465C2079.688,-184.776 2079.5179,-175.9318 2079.3533,-167.3697\"/>\n<polygon fill=\"#000000\" stroke=\"#000000\" points=\"2082.8481,-167.0608 2079.1563,-157.13 2075.8494,-167.1955 2082.8481,-167.0608\"/>\n</g>\n<!-- 51 -->\n<g id=\"node52\" class=\"node\">\n<title>51</title>\n<path fill=\"#399de5\" stroke=\"#000000\" d=\"M2236,-149.5C2236,-149.5 2161,-149.5 2161,-149.5 2155,-149.5 2149,-143.5 2149,-137.5 2149,-137.5 2149,-108.5 2149,-108.5 2149,-102.5 2155,-96.5 2161,-96.5 2161,-96.5 2236,-96.5 2236,-96.5 2242,-96.5 2248,-102.5 2248,-108.5 2248,-108.5 2248,-137.5 2248,-137.5 2248,-143.5 2242,-149.5 2236,-149.5\"/>\n<text text-anchor=\"middle\" x=\"2198.5\" y=\"-134.3\" font-family=\"Helvetica,sans-Serif\" font-size=\"14.00\" fill=\"#000000\">gini = 0.0</text>\n<text text-anchor=\"middle\" x=\"2198.5\" y=\"-119.3\" font-family=\"Helvetica,sans-Serif\" font-size=\"14.00\" fill=\"#000000\">samples = 6</text>\n<text text-anchor=\"middle\" x=\"2198.5\" y=\"-104.3\" font-family=\"Helvetica,sans-Serif\" font-size=\"14.00\" fill=\"#000000\">value = [0, 6]</text>\n</g>\n<!-- 47&#45;&gt;51 -->\n<g id=\"edge51\" class=\"edge\">\n<title>47&#45;&gt;51</title>\n<path fill=\"none\" stroke=\"#000000\" d=\"M2119.1376,-192.9465C2132.5101,-181.1606 2147.4734,-167.9726 2160.7719,-156.2519\"/>\n<polygon fill=\"#000000\" stroke=\"#000000\" points=\"2163.197,-158.7799 2168.3849,-149.5422 2158.5685,-153.5285 2163.197,-158.7799\"/>\n</g>\n<!-- 49 -->\n<g id=\"node50\" class=\"node\">\n<title>49</title>\n<path fill=\"#ffffff\" stroke=\"#000000\" d=\"M2054,-53C2054,-53 1979,-53 1979,-53 1973,-53 1967,-47 1967,-41 1967,-41 1967,-12 1967,-12 1967,-6 1973,0 1979,0 1979,0 2054,0 2054,0 2060,0 2066,-6 2066,-12 2066,-12 2066,-41 2066,-41 2066,-47 2060,-53 2054,-53\"/>\n<text text-anchor=\"middle\" x=\"2016.5\" y=\"-37.8\" font-family=\"Helvetica,sans-Serif\" font-size=\"14.00\" fill=\"#000000\">gini = 0.5</text>\n<text text-anchor=\"middle\" x=\"2016.5\" y=\"-22.8\" font-family=\"Helvetica,sans-Serif\" font-size=\"14.00\" fill=\"#000000\">samples = 2</text>\n<text text-anchor=\"middle\" x=\"2016.5\" y=\"-7.8\" font-family=\"Helvetica,sans-Serif\" font-size=\"14.00\" fill=\"#000000\">value = [1, 1]</text>\n</g>\n<!-- 48&#45;&gt;49 -->\n<g id=\"edge49\" class=\"edge\">\n<title>48&#45;&gt;49</title>\n<path fill=\"none\" stroke=\"#000000\" d=\"M2056.6411,-88.9777C2050.9932,-80.187 2044.9007,-70.7044 2039.2104,-61.8477\"/>\n<polygon fill=\"#000000\" stroke=\"#000000\" points=\"2042.0356,-59.7698 2033.6856,-53.2485 2036.1463,-63.5536 2042.0356,-59.7698\"/>\n</g>\n<!-- 50 -->\n<g id=\"node51\" class=\"node\">\n<title>50</title>\n<path fill=\"#52a9e8\" stroke=\"#000000\" d=\"M2171,-53C2171,-53 2096,-53 2096,-53 2090,-53 2084,-47 2084,-41 2084,-41 2084,-12 2084,-12 2084,-6 2090,0 2096,0 2096,0 2171,0 2171,0 2177,0 2183,-6 2183,-12 2183,-12 2183,-41 2183,-41 2183,-47 2177,-53 2171,-53\"/>\n<text text-anchor=\"middle\" x=\"2133.5\" y=\"-37.8\" font-family=\"Helvetica,sans-Serif\" font-size=\"14.00\" fill=\"#000000\">gini = 0.198</text>\n<text text-anchor=\"middle\" x=\"2133.5\" y=\"-22.8\" font-family=\"Helvetica,sans-Serif\" font-size=\"14.00\" fill=\"#000000\">samples = 9</text>\n<text text-anchor=\"middle\" x=\"2133.5\" y=\"-7.8\" font-family=\"Helvetica,sans-Serif\" font-size=\"14.00\" fill=\"#000000\">value = [1, 8]</text>\n</g>\n<!-- 48&#45;&gt;50 -->\n<g id=\"edge50\" class=\"edge\">\n<title>48&#45;&gt;50</title>\n<path fill=\"none\" stroke=\"#000000\" d=\"M2097.8909,-88.9777C2102.849,-80.2786 2108.1933,-70.9018 2113.1958,-62.1247\"/>\n<polygon fill=\"#000000\" stroke=\"#000000\" points=\"2116.3438,-63.6696 2118.2548,-53.2485 2110.2622,-60.2033 2116.3438,-63.6696\"/>\n</g>\n<!-- 53 -->\n<g id=\"node54\" class=\"node\">\n<title>53</title>\n<path fill=\"#d5eafa\" stroke=\"#000000\" d=\"M2602.5,-365C2602.5,-365 2510.5,-365 2510.5,-365 2504.5,-365 2498.5,-359 2498.5,-353 2498.5,-353 2498.5,-309 2498.5,-309 2498.5,-303 2504.5,-297 2510.5,-297 2510.5,-297 2602.5,-297 2602.5,-297 2608.5,-297 2614.5,-303 2614.5,-309 2614.5,-309 2614.5,-353 2614.5,-353 2614.5,-359 2608.5,-365 2602.5,-365\"/>\n<text text-anchor=\"middle\" x=\"2556.5\" y=\"-349.8\" font-family=\"Helvetica,sans-Serif\" font-size=\"14.00\" fill=\"#000000\">Age &lt;= 36.5</text>\n<text text-anchor=\"middle\" x=\"2556.5\" y=\"-334.8\" font-family=\"Helvetica,sans-Serif\" font-size=\"14.00\" fill=\"#000000\">gini = 0.493</text>\n<text text-anchor=\"middle\" x=\"2556.5\" y=\"-319.8\" font-family=\"Helvetica,sans-Serif\" font-size=\"14.00\" fill=\"#000000\">samples = 93</text>\n<text text-anchor=\"middle\" x=\"2556.5\" y=\"-304.8\" font-family=\"Helvetica,sans-Serif\" font-size=\"14.00\" fill=\"#000000\">value = [41, 52]</text>\n</g>\n<!-- 52&#45;&gt;53 -->\n<g id=\"edge53\" class=\"edge\">\n<title>52&#45;&gt;53</title>\n<path fill=\"none\" stroke=\"#000000\" d=\"M2556.5,-400.9465C2556.5,-392.776 2556.5,-383.9318 2556.5,-375.3697\"/>\n<polygon fill=\"#000000\" stroke=\"#000000\" points=\"2560.0001,-375.13 2556.5,-365.13 2553.0001,-375.13 2560.0001,-375.13\"/>\n</g>\n<!-- 64 -->\n<g id=\"node65\" class=\"node\">\n<title>64</title>\n<path fill=\"#e78b48\" stroke=\"#000000\" d=\"M2895,-365C2895,-365 2812,-365 2812,-365 2806,-365 2800,-359 2800,-353 2800,-353 2800,-309 2800,-309 2800,-303 2806,-297 2812,-297 2812,-297 2895,-297 2895,-297 2901,-297 2907,-303 2907,-309 2907,-309 2907,-353 2907,-353 2907,-359 2901,-365 2895,-365\"/>\n<text text-anchor=\"middle\" x=\"2853.5\" y=\"-349.8\" font-family=\"Helvetica,sans-Serif\" font-size=\"14.00\" fill=\"#000000\">Age &lt;= 5.5</text>\n<text text-anchor=\"middle\" x=\"2853.5\" y=\"-334.8\" font-family=\"Helvetica,sans-Serif\" font-size=\"14.00\" fill=\"#000000\">gini = 0.133</text>\n<text text-anchor=\"middle\" x=\"2853.5\" y=\"-319.8\" font-family=\"Helvetica,sans-Serif\" font-size=\"14.00\" fill=\"#000000\">samples = 14</text>\n<text text-anchor=\"middle\" x=\"2853.5\" y=\"-304.8\" font-family=\"Helvetica,sans-Serif\" font-size=\"14.00\" fill=\"#000000\">value = [13, 1]</text>\n</g>\n<!-- 52&#45;&gt;64 -->\n<g id=\"edge64\" class=\"edge\">\n<title>52&#45;&gt;64</title>\n<path fill=\"none\" stroke=\"#000000\" d=\"M2614.8233,-414.577C2665.3966,-396.8678 2738.4272,-371.2949 2790.3636,-353.1084\"/>\n<polygon fill=\"#000000\" stroke=\"#000000\" points=\"2791.5242,-356.4104 2799.8056,-349.8021 2789.2108,-349.8037 2791.5242,-356.4104\"/>\n</g>\n<!-- 54 -->\n<g id=\"node55\" class=\"node\">\n<title>54</title>\n<path fill=\"#bddef6\" stroke=\"#000000\" d=\"M2539.5,-261C2539.5,-261 2447.5,-261 2447.5,-261 2441.5,-261 2435.5,-255 2435.5,-249 2435.5,-249 2435.5,-205 2435.5,-205 2435.5,-199 2441.5,-193 2447.5,-193 2447.5,-193 2539.5,-193 2539.5,-193 2545.5,-193 2551.5,-199 2551.5,-205 2551.5,-205 2551.5,-249 2551.5,-249 2551.5,-255 2545.5,-261 2539.5,-261\"/>\n<text text-anchor=\"middle\" x=\"2493.5\" y=\"-245.8\" font-family=\"Helvetica,sans-Serif\" font-size=\"14.00\" fill=\"#000000\">Age &lt;= 7.0</text>\n<text text-anchor=\"middle\" x=\"2493.5\" y=\"-230.8\" font-family=\"Helvetica,sans-Serif\" font-size=\"14.00\" fill=\"#000000\">gini = 0.48</text>\n<text text-anchor=\"middle\" x=\"2493.5\" y=\"-215.8\" font-family=\"Helvetica,sans-Serif\" font-size=\"14.00\" fill=\"#000000\">samples = 85</text>\n<text text-anchor=\"middle\" x=\"2493.5\" y=\"-200.8\" font-family=\"Helvetica,sans-Serif\" font-size=\"14.00\" fill=\"#000000\">value = [34, 51]</text>\n</g>\n<!-- 53&#45;&gt;54 -->\n<g id=\"edge54\" class=\"edge\">\n<title>53&#45;&gt;54</title>\n<path fill=\"none\" stroke=\"#000000\" d=\"M2535.8714,-296.9465C2530.6501,-288.3271 2524.9745,-278.9579 2519.5245,-269.9611\"/>\n<polygon fill=\"#000000\" stroke=\"#000000\" points=\"2522.3497,-267.8697 2514.1749,-261.13 2516.3626,-271.4965 2522.3497,-267.8697\"/>\n</g>\n<!-- 61 -->\n<g id=\"node62\" class=\"node\">\n<title>61</title>\n<path fill=\"#e99355\" stroke=\"#000000\" d=\"M2657,-261C2657,-261 2582,-261 2582,-261 2576,-261 2570,-255 2570,-249 2570,-249 2570,-205 2570,-205 2570,-199 2576,-193 2582,-193 2582,-193 2657,-193 2657,-193 2663,-193 2669,-199 2669,-205 2669,-205 2669,-249 2669,-249 2669,-255 2663,-261 2657,-261\"/>\n<text text-anchor=\"middle\" x=\"2619.5\" y=\"-245.8\" font-family=\"Helvetica,sans-Serif\" font-size=\"14.00\" fill=\"#000000\">Age &lt;= 55.0</text>\n<text text-anchor=\"middle\" x=\"2619.5\" y=\"-230.8\" font-family=\"Helvetica,sans-Serif\" font-size=\"14.00\" fill=\"#000000\">gini = 0.219</text>\n<text text-anchor=\"middle\" x=\"2619.5\" y=\"-215.8\" font-family=\"Helvetica,sans-Serif\" font-size=\"14.00\" fill=\"#000000\">samples = 8</text>\n<text text-anchor=\"middle\" x=\"2619.5\" y=\"-200.8\" font-family=\"Helvetica,sans-Serif\" font-size=\"14.00\" fill=\"#000000\">value = [7, 1]</text>\n</g>\n<!-- 53&#45;&gt;61 -->\n<g id=\"edge61\" class=\"edge\">\n<title>53&#45;&gt;61</title>\n<path fill=\"none\" stroke=\"#000000\" d=\"M2577.1286,-296.9465C2582.3499,-288.3271 2588.0255,-278.9579 2593.4755,-269.9611\"/>\n<polygon fill=\"#000000\" stroke=\"#000000\" points=\"2596.6374,-271.4965 2598.8251,-261.13 2590.6503,-267.8697 2596.6374,-271.4965\"/>\n</g>\n<!-- 55 -->\n<g id=\"node56\" class=\"node\">\n<title>55</title>\n<path fill=\"#52a9e8\" stroke=\"#000000\" d=\"M2405,-157C2405,-157 2330,-157 2330,-157 2324,-157 2318,-151 2318,-145 2318,-145 2318,-101 2318,-101 2318,-95 2324,-89 2330,-89 2330,-89 2405,-89 2405,-89 2411,-89 2417,-95 2417,-101 2417,-101 2417,-145 2417,-145 2417,-151 2411,-157 2405,-157\"/>\n<text text-anchor=\"middle\" x=\"2367.5\" y=\"-141.8\" font-family=\"Helvetica,sans-Serif\" font-size=\"14.00\" fill=\"#000000\">Parch &lt;= 0.5</text>\n<text text-anchor=\"middle\" x=\"2367.5\" y=\"-126.8\" font-family=\"Helvetica,sans-Serif\" font-size=\"14.00\" fill=\"#000000\">gini = 0.198</text>\n<text text-anchor=\"middle\" x=\"2367.5\" y=\"-111.8\" font-family=\"Helvetica,sans-Serif\" font-size=\"14.00\" fill=\"#000000\">samples = 9</text>\n<text text-anchor=\"middle\" x=\"2367.5\" y=\"-96.8\" font-family=\"Helvetica,sans-Serif\" font-size=\"14.00\" fill=\"#000000\">value = [1, 8]</text>\n</g>\n<!-- 54&#45;&gt;55 -->\n<g id=\"edge55\" class=\"edge\">\n<title>54&#45;&gt;55</title>\n<path fill=\"none\" stroke=\"#000000\" d=\"M2452.2429,-192.9465C2440.9299,-183.6088 2428.5508,-173.3911 2416.8342,-163.7203\"/>\n<polygon fill=\"#000000\" stroke=\"#000000\" points=\"2418.79,-160.7964 2408.8498,-157.13 2414.3341,-166.195 2418.79,-160.7964\"/>\n</g>\n<!-- 58 -->\n<g id=\"node59\" class=\"node\">\n<title>58</title>\n<path fill=\"#d1e8f9\" stroke=\"#000000\" d=\"M2539.5,-157C2539.5,-157 2447.5,-157 2447.5,-157 2441.5,-157 2435.5,-151 2435.5,-145 2435.5,-145 2435.5,-101 2435.5,-101 2435.5,-95 2441.5,-89 2447.5,-89 2447.5,-89 2539.5,-89 2539.5,-89 2545.5,-89 2551.5,-95 2551.5,-101 2551.5,-101 2551.5,-145 2551.5,-145 2551.5,-151 2545.5,-157 2539.5,-157\"/>\n<text text-anchor=\"middle\" x=\"2493.5\" y=\"-141.8\" font-family=\"Helvetica,sans-Serif\" font-size=\"14.00\" fill=\"#000000\">SibSp &lt;= 1.5</text>\n<text text-anchor=\"middle\" x=\"2493.5\" y=\"-126.8\" font-family=\"Helvetica,sans-Serif\" font-size=\"14.00\" fill=\"#000000\">gini = 0.491</text>\n<text text-anchor=\"middle\" x=\"2493.5\" y=\"-111.8\" font-family=\"Helvetica,sans-Serif\" font-size=\"14.00\" fill=\"#000000\">samples = 76</text>\n<text text-anchor=\"middle\" x=\"2493.5\" y=\"-96.8\" font-family=\"Helvetica,sans-Serif\" font-size=\"14.00\" fill=\"#000000\">value = [33, 43]</text>\n</g>\n<!-- 54&#45;&gt;58 -->\n<g id=\"edge58\" class=\"edge\">\n<title>54&#45;&gt;58</title>\n<path fill=\"none\" stroke=\"#000000\" d=\"M2493.5,-192.9465C2493.5,-184.776 2493.5,-175.9318 2493.5,-167.3697\"/>\n<polygon fill=\"#000000\" stroke=\"#000000\" points=\"2497.0001,-167.13 2493.5,-157.13 2490.0001,-167.13 2497.0001,-167.13\"/>\n</g>\n<!-- 56 -->\n<g id=\"node57\" class=\"node\">\n<title>56</title>\n<path fill=\"#7bbeee\" stroke=\"#000000\" d=\"M2288,-53C2288,-53 2213,-53 2213,-53 2207,-53 2201,-47 2201,-41 2201,-41 2201,-12 2201,-12 2201,-6 2207,0 2213,0 2213,0 2288,0 2288,0 2294,0 2300,-6 2300,-12 2300,-12 2300,-41 2300,-41 2300,-47 2294,-53 2288,-53\"/>\n<text text-anchor=\"middle\" x=\"2250.5\" y=\"-37.8\" font-family=\"Helvetica,sans-Serif\" font-size=\"14.00\" fill=\"#000000\">gini = 0.375</text>\n<text text-anchor=\"middle\" x=\"2250.5\" y=\"-22.8\" font-family=\"Helvetica,sans-Serif\" font-size=\"14.00\" fill=\"#000000\">samples = 4</text>\n<text text-anchor=\"middle\" x=\"2250.5\" y=\"-7.8\" font-family=\"Helvetica,sans-Serif\" font-size=\"14.00\" fill=\"#000000\">value = [1, 3]</text>\n</g>\n<!-- 55&#45;&gt;56 -->\n<g id=\"edge56\" class=\"edge\">\n<title>55&#45;&gt;56</title>\n<path fill=\"none\" stroke=\"#000000\" d=\"M2326.2502,-88.9777C2314.7039,-79.4545 2302.1729,-69.1191 2290.689,-59.6473\"/>\n<polygon fill=\"#000000\" stroke=\"#000000\" points=\"2292.8724,-56.9113 2282.9308,-53.2485 2288.4184,-62.3115 2292.8724,-56.9113\"/>\n</g>\n<!-- 57 -->\n<g id=\"node58\" class=\"node\">\n<title>57</title>\n<path fill=\"#399de5\" stroke=\"#000000\" d=\"M2405,-53C2405,-53 2330,-53 2330,-53 2324,-53 2318,-47 2318,-41 2318,-41 2318,-12 2318,-12 2318,-6 2324,0 2330,0 2330,0 2405,0 2405,0 2411,0 2417,-6 2417,-12 2417,-12 2417,-41 2417,-41 2417,-47 2411,-53 2405,-53\"/>\n<text text-anchor=\"middle\" x=\"2367.5\" y=\"-37.8\" font-family=\"Helvetica,sans-Serif\" font-size=\"14.00\" fill=\"#000000\">gini = 0.0</text>\n<text text-anchor=\"middle\" x=\"2367.5\" y=\"-22.8\" font-family=\"Helvetica,sans-Serif\" font-size=\"14.00\" fill=\"#000000\">samples = 5</text>\n<text text-anchor=\"middle\" x=\"2367.5\" y=\"-7.8\" font-family=\"Helvetica,sans-Serif\" font-size=\"14.00\" fill=\"#000000\">value = [0, 5]</text>\n</g>\n<!-- 55&#45;&gt;57 -->\n<g id=\"edge57\" class=\"edge\">\n<title>55&#45;&gt;57</title>\n<path fill=\"none\" stroke=\"#000000\" d=\"M2367.5,-88.9777C2367.5,-80.7364 2367.5,-71.887 2367.5,-63.5153\"/>\n<polygon fill=\"#000000\" stroke=\"#000000\" points=\"2371.0001,-63.2484 2367.5,-53.2485 2364.0001,-63.2485 2371.0001,-63.2484\"/>\n</g>\n<!-- 59 -->\n<g id=\"node60\" class=\"node\">\n<title>59</title>\n<path fill=\"#baddf6\" stroke=\"#000000\" d=\"M2539.5,-53C2539.5,-53 2447.5,-53 2447.5,-53 2441.5,-53 2435.5,-47 2435.5,-41 2435.5,-41 2435.5,-12 2435.5,-12 2435.5,-6 2441.5,0 2447.5,0 2447.5,0 2539.5,0 2539.5,0 2545.5,0 2551.5,-6 2551.5,-12 2551.5,-12 2551.5,-41 2551.5,-41 2551.5,-47 2545.5,-53 2539.5,-53\"/>\n<text text-anchor=\"middle\" x=\"2493.5\" y=\"-37.8\" font-family=\"Helvetica,sans-Serif\" font-size=\"14.00\" fill=\"#000000\">gini = 0.478</text>\n<text text-anchor=\"middle\" x=\"2493.5\" y=\"-22.8\" font-family=\"Helvetica,sans-Serif\" font-size=\"14.00\" fill=\"#000000\">samples = 66</text>\n<text text-anchor=\"middle\" x=\"2493.5\" y=\"-7.8\" font-family=\"Helvetica,sans-Serif\" font-size=\"14.00\" fill=\"#000000\">value = [26, 40]</text>\n</g>\n<!-- 58&#45;&gt;59 -->\n<g id=\"edge59\" class=\"edge\">\n<title>58&#45;&gt;59</title>\n<path fill=\"none\" stroke=\"#000000\" d=\"M2493.5,-88.9777C2493.5,-80.7364 2493.5,-71.887 2493.5,-63.5153\"/>\n<polygon fill=\"#000000\" stroke=\"#000000\" points=\"2497.0001,-63.2484 2493.5,-53.2485 2490.0001,-63.2485 2497.0001,-63.2484\"/>\n</g>\n<!-- 60 -->\n<g id=\"node61\" class=\"node\">\n<title>60</title>\n<path fill=\"#f0b78e\" stroke=\"#000000\" d=\"M2661.5,-53C2661.5,-53 2581.5,-53 2581.5,-53 2575.5,-53 2569.5,-47 2569.5,-41 2569.5,-41 2569.5,-12 2569.5,-12 2569.5,-6 2575.5,0 2581.5,0 2581.5,0 2661.5,0 2661.5,0 2667.5,0 2673.5,-6 2673.5,-12 2673.5,-12 2673.5,-41 2673.5,-41 2673.5,-47 2667.5,-53 2661.5,-53\"/>\n<text text-anchor=\"middle\" x=\"2621.5\" y=\"-37.8\" font-family=\"Helvetica,sans-Serif\" font-size=\"14.00\" fill=\"#000000\">gini = 0.42</text>\n<text text-anchor=\"middle\" x=\"2621.5\" y=\"-22.8\" font-family=\"Helvetica,sans-Serif\" font-size=\"14.00\" fill=\"#000000\">samples = 10</text>\n<text text-anchor=\"middle\" x=\"2621.5\" y=\"-7.8\" font-family=\"Helvetica,sans-Serif\" font-size=\"14.00\" fill=\"#000000\">value = [7, 3]</text>\n</g>\n<!-- 58&#45;&gt;60 -->\n<g id=\"edge60\" class=\"edge\">\n<title>58&#45;&gt;60</title>\n<path fill=\"none\" stroke=\"#000000\" d=\"M2538.628,-88.9777C2551.3813,-79.3629 2565.2327,-68.9203 2577.8947,-59.3743\"/>\n<polygon fill=\"#000000\" stroke=\"#000000\" points=\"2580.1421,-62.0632 2586.0202,-53.2485 2575.9281,-56.4737 2580.1421,-62.0632\"/>\n</g>\n<!-- 62 -->\n<g id=\"node63\" class=\"node\">\n<title>62</title>\n<path fill=\"#e58139\" stroke=\"#000000\" d=\"M2657,-149.5C2657,-149.5 2582,-149.5 2582,-149.5 2576,-149.5 2570,-143.5 2570,-137.5 2570,-137.5 2570,-108.5 2570,-108.5 2570,-102.5 2576,-96.5 2582,-96.5 2582,-96.5 2657,-96.5 2657,-96.5 2663,-96.5 2669,-102.5 2669,-108.5 2669,-108.5 2669,-137.5 2669,-137.5 2669,-143.5 2663,-149.5 2657,-149.5\"/>\n<text text-anchor=\"middle\" x=\"2619.5\" y=\"-134.3\" font-family=\"Helvetica,sans-Serif\" font-size=\"14.00\" fill=\"#000000\">gini = 0.0</text>\n<text text-anchor=\"middle\" x=\"2619.5\" y=\"-119.3\" font-family=\"Helvetica,sans-Serif\" font-size=\"14.00\" fill=\"#000000\">samples = 7</text>\n<text text-anchor=\"middle\" x=\"2619.5\" y=\"-104.3\" font-family=\"Helvetica,sans-Serif\" font-size=\"14.00\" fill=\"#000000\">value = [7, 0]</text>\n</g>\n<!-- 61&#45;&gt;62 -->\n<g id=\"edge62\" class=\"edge\">\n<title>61&#45;&gt;62</title>\n<path fill=\"none\" stroke=\"#000000\" d=\"M2619.5,-192.9465C2619.5,-182.2621 2619.5,-170.4254 2619.5,-159.5742\"/>\n<polygon fill=\"#000000\" stroke=\"#000000\" points=\"2623.0001,-159.5421 2619.5,-149.5422 2616.0001,-159.5422 2623.0001,-159.5421\"/>\n</g>\n<!-- 63 -->\n<g id=\"node64\" class=\"node\">\n<title>63</title>\n<path fill=\"#399de5\" stroke=\"#000000\" d=\"M2774,-149.5C2774,-149.5 2699,-149.5 2699,-149.5 2693,-149.5 2687,-143.5 2687,-137.5 2687,-137.5 2687,-108.5 2687,-108.5 2687,-102.5 2693,-96.5 2699,-96.5 2699,-96.5 2774,-96.5 2774,-96.5 2780,-96.5 2786,-102.5 2786,-108.5 2786,-108.5 2786,-137.5 2786,-137.5 2786,-143.5 2780,-149.5 2774,-149.5\"/>\n<text text-anchor=\"middle\" x=\"2736.5\" y=\"-134.3\" font-family=\"Helvetica,sans-Serif\" font-size=\"14.00\" fill=\"#000000\">gini = 0.0</text>\n<text text-anchor=\"middle\" x=\"2736.5\" y=\"-119.3\" font-family=\"Helvetica,sans-Serif\" font-size=\"14.00\" fill=\"#000000\">samples = 1</text>\n<text text-anchor=\"middle\" x=\"2736.5\" y=\"-104.3\" font-family=\"Helvetica,sans-Serif\" font-size=\"14.00\" fill=\"#000000\">value = [0, 1]</text>\n</g>\n<!-- 61&#45;&gt;63 -->\n<g id=\"edge63\" class=\"edge\">\n<title>61&#45;&gt;63</title>\n<path fill=\"none\" stroke=\"#000000\" d=\"M2657.8102,-192.9465C2671.0694,-181.1606 2685.9058,-167.9726 2699.0916,-156.2519\"/>\n<polygon fill=\"#000000\" stroke=\"#000000\" points=\"2701.4912,-158.8018 2706.6401,-149.5422 2696.8407,-153.5699 2701.4912,-158.8018\"/>\n</g>\n<!-- 65 -->\n<g id=\"node66\" class=\"node\">\n<title>65</title>\n<path fill=\"#f2c09c\" stroke=\"#000000\" d=\"M2891,-261C2891,-261 2816,-261 2816,-261 2810,-261 2804,-255 2804,-249 2804,-249 2804,-205 2804,-205 2804,-199 2810,-193 2816,-193 2816,-193 2891,-193 2891,-193 2897,-193 2903,-199 2903,-205 2903,-205 2903,-249 2903,-249 2903,-255 2897,-261 2891,-261\"/>\n<text text-anchor=\"middle\" x=\"2853.5\" y=\"-245.8\" font-family=\"Helvetica,sans-Serif\" font-size=\"14.00\" fill=\"#000000\">Age &lt;= 3.5</text>\n<text text-anchor=\"middle\" x=\"2853.5\" y=\"-230.8\" font-family=\"Helvetica,sans-Serif\" font-size=\"14.00\" fill=\"#000000\">gini = 0.444</text>\n<text text-anchor=\"middle\" x=\"2853.5\" y=\"-215.8\" font-family=\"Helvetica,sans-Serif\" font-size=\"14.00\" fill=\"#000000\">samples = 3</text>\n<text text-anchor=\"middle\" x=\"2853.5\" y=\"-200.8\" font-family=\"Helvetica,sans-Serif\" font-size=\"14.00\" fill=\"#000000\">value = [2, 1]</text>\n</g>\n<!-- 64&#45;&gt;65 -->\n<g id=\"edge65\" class=\"edge\">\n<title>64&#45;&gt;65</title>\n<path fill=\"none\" stroke=\"#000000\" d=\"M2853.5,-296.9465C2853.5,-288.776 2853.5,-279.9318 2853.5,-271.3697\"/>\n<polygon fill=\"#000000\" stroke=\"#000000\" points=\"2857.0001,-271.13 2853.5,-261.13 2850.0001,-271.13 2857.0001,-271.13\"/>\n</g>\n<!-- 68 -->\n<g id=\"node69\" class=\"node\">\n<title>68</title>\n<path fill=\"#e58139\" stroke=\"#000000\" d=\"M3016,-253.5C3016,-253.5 2933,-253.5 2933,-253.5 2927,-253.5 2921,-247.5 2921,-241.5 2921,-241.5 2921,-212.5 2921,-212.5 2921,-206.5 2927,-200.5 2933,-200.5 2933,-200.5 3016,-200.5 3016,-200.5 3022,-200.5 3028,-206.5 3028,-212.5 3028,-212.5 3028,-241.5 3028,-241.5 3028,-247.5 3022,-253.5 3016,-253.5\"/>\n<text text-anchor=\"middle\" x=\"2974.5\" y=\"-238.3\" font-family=\"Helvetica,sans-Serif\" font-size=\"14.00\" fill=\"#000000\">gini = 0.0</text>\n<text text-anchor=\"middle\" x=\"2974.5\" y=\"-223.3\" font-family=\"Helvetica,sans-Serif\" font-size=\"14.00\" fill=\"#000000\">samples = 11</text>\n<text text-anchor=\"middle\" x=\"2974.5\" y=\"-208.3\" font-family=\"Helvetica,sans-Serif\" font-size=\"14.00\" fill=\"#000000\">value = [11, 0]</text>\n</g>\n<!-- 64&#45;&gt;68 -->\n<g id=\"edge68\" class=\"edge\">\n<title>64&#45;&gt;68</title>\n<path fill=\"none\" stroke=\"#000000\" d=\"M2893.1199,-296.9465C2906.8324,-285.1606 2922.1761,-271.9726 2935.8127,-260.2519\"/>\n<polygon fill=\"#000000\" stroke=\"#000000\" points=\"2938.3169,-262.7147 2943.6192,-253.5422 2933.7541,-257.4061 2938.3169,-262.7147\"/>\n</g>\n<!-- 66 -->\n<g id=\"node67\" class=\"node\">\n<title>66</title>\n<path fill=\"#e58139\" stroke=\"#000000\" d=\"M2891,-149.5C2891,-149.5 2816,-149.5 2816,-149.5 2810,-149.5 2804,-143.5 2804,-137.5 2804,-137.5 2804,-108.5 2804,-108.5 2804,-102.5 2810,-96.5 2816,-96.5 2816,-96.5 2891,-96.5 2891,-96.5 2897,-96.5 2903,-102.5 2903,-108.5 2903,-108.5 2903,-137.5 2903,-137.5 2903,-143.5 2897,-149.5 2891,-149.5\"/>\n<text text-anchor=\"middle\" x=\"2853.5\" y=\"-134.3\" font-family=\"Helvetica,sans-Serif\" font-size=\"14.00\" fill=\"#000000\">gini = 0.0</text>\n<text text-anchor=\"middle\" x=\"2853.5\" y=\"-119.3\" font-family=\"Helvetica,sans-Serif\" font-size=\"14.00\" fill=\"#000000\">samples = 2</text>\n<text text-anchor=\"middle\" x=\"2853.5\" y=\"-104.3\" font-family=\"Helvetica,sans-Serif\" font-size=\"14.00\" fill=\"#000000\">value = [2, 0]</text>\n</g>\n<!-- 65&#45;&gt;66 -->\n<g id=\"edge66\" class=\"edge\">\n<title>65&#45;&gt;66</title>\n<path fill=\"none\" stroke=\"#000000\" d=\"M2853.5,-192.9465C2853.5,-182.2621 2853.5,-170.4254 2853.5,-159.5742\"/>\n<polygon fill=\"#000000\" stroke=\"#000000\" points=\"2857.0001,-159.5421 2853.5,-149.5422 2850.0001,-159.5422 2857.0001,-159.5421\"/>\n</g>\n<!-- 67 -->\n<g id=\"node68\" class=\"node\">\n<title>67</title>\n<path fill=\"#399de5\" stroke=\"#000000\" d=\"M3008,-149.5C3008,-149.5 2933,-149.5 2933,-149.5 2927,-149.5 2921,-143.5 2921,-137.5 2921,-137.5 2921,-108.5 2921,-108.5 2921,-102.5 2927,-96.5 2933,-96.5 2933,-96.5 3008,-96.5 3008,-96.5 3014,-96.5 3020,-102.5 3020,-108.5 3020,-108.5 3020,-137.5 3020,-137.5 3020,-143.5 3014,-149.5 3008,-149.5\"/>\n<text text-anchor=\"middle\" x=\"2970.5\" y=\"-134.3\" font-family=\"Helvetica,sans-Serif\" font-size=\"14.00\" fill=\"#000000\">gini = 0.0</text>\n<text text-anchor=\"middle\" x=\"2970.5\" y=\"-119.3\" font-family=\"Helvetica,sans-Serif\" font-size=\"14.00\" fill=\"#000000\">samples = 1</text>\n<text text-anchor=\"middle\" x=\"2970.5\" y=\"-104.3\" font-family=\"Helvetica,sans-Serif\" font-size=\"14.00\" fill=\"#000000\">value = [0, 1]</text>\n</g>\n<!-- 65&#45;&gt;67 -->\n<g id=\"edge67\" class=\"edge\">\n<title>65&#45;&gt;67</title>\n<path fill=\"none\" stroke=\"#000000\" d=\"M2891.8102,-192.9465C2905.0694,-181.1606 2919.9058,-167.9726 2933.0916,-156.2519\"/>\n<polygon fill=\"#000000\" stroke=\"#000000\" points=\"2935.4912,-158.8018 2940.6401,-149.5422 2930.8407,-153.5699 2935.4912,-158.8018\"/>\n</g>\n</g>\n</svg>\n"
          },
          "metadata": {},
          "execution_count": 10
        }
      ]
    },
    {
      "cell_type": "markdown",
      "source": [
        "## Aplicação"
      ],
      "metadata": {
        "id": "EpWkUw1_uPpT"
      }
    },
    {
      "cell_type": "code",
      "source": [
        "tree_result = clf_gini.predict(X_test)\n",
        "precisao = accuracy_score(Y_test, tree_result)\n",
        "precisao"
      ],
      "metadata": {
        "colab": {
          "base_uri": "https://localhost:8080/"
        },
        "id": "s20o2AuyuIy0",
        "outputId": "e44f8ee2-6a62-4a5a-a1ad-54e5a82751b4"
      },
      "execution_count": null,
      "outputs": [
        {
          "output_type": "execute_result",
          "data": {
            "text/plain": [
              "0.8208955223880597"
            ]
          },
          "metadata": {},
          "execution_count": 11
        }
      ]
    },
    {
      "cell_type": "markdown",
      "source": [
        "## Matriz de Confusão"
      ],
      "metadata": {
        "id": "x6aKrAzAv8bL"
      }
    },
    {
      "cell_type": "code",
      "source": [
        "# Básico\n",
        "# confusion_matrix(Y_test,tree_result)\n",
        "\n",
        "# Avançado (Por Valores)\n",
        "true_negative, false_positive, false_negative, true_positive = confusion_matrix(Y_test,tree_result).ravel()\n",
        "\n",
        "# Reorganizando Visualmente\n",
        "matriz_organizada = np.array([[true_positive,false_negative],[false_positive,true_negative]])\n",
        "\n",
        "# Gráfico\n",
        "sns.heatmap(matriz_organizada,cmap='Greens',annot=True)\n",
        "plt.title('Matriz de Confusão',fontsize=14)\n",
        "plt.xticks([])\n",
        "plt.yticks([])\n",
        "\n",
        "plt.annotate('TP',(0.3,0.5),fontweight='bold')\n",
        "plt.annotate('FN',(1.3,0.5),fontweight='bold')\n",
        "plt.annotate('FP',(0.3,1.5),fontweight='bold')\n",
        "plt.annotate('TN',(1.3,1.5),fontweight='bold')"
      ],
      "metadata": {
        "colab": {
          "base_uri": "https://localhost:8080/"
        },
        "id": "AR2YGWtCwAkj",
        "outputId": "1983fe3b-ea20-4639-f950-5a7ce83d14ad"
      },
      "execution_count": null,
      "outputs": [
        {
          "output_type": "execute_result",
          "data": {
            "text/plain": [
              "Text(1.3, 1.5, 'TN')"
            ]
          },
          "metadata": {},
          "execution_count": 12
        },
        {
          "output_type": "display_data",
          "data": {
            "text/plain": [
              "<Figure size 432x288 with 2 Axes>"
            ],
            "image/png": "[encoded data removed]"
          },
          "metadata": {
            "needs_background": "light"
          }
        }
      ]
    },
    {
      "cell_type": "code",
      "source": [
        "# Relatório Alternativo\n",
        "print(classification_report(Y_test,tree_result))"
      ],
      "metadata": {
        "colab": {
          "base_uri": "https://localhost:8080/"
        },
        "id": "FDpBSlPGzTAE",
        "outputId": "0f3d81b3-35b6-4769-8c81-e1a8cf16b0c2"
      },
      "execution_count": null,
      "outputs": [
        {
          "output_type": "stream",
          "name": "stdout",
          "text": [
            "              precision    recall  f1-score   support\n",
            "\n",
            "           0       0.84      0.90      0.87       173\n",
            "           1       0.78      0.68      0.73        95\n",
            "\n",
            "    accuracy                           0.82       268\n",
            "   macro avg       0.81      0.79      0.80       268\n",
            "weighted avg       0.82      0.82      0.82       268\n",
            "\n"
          ]
        }
      ]
    },
    {
      "cell_type": "markdown",
      "source": [
        "# Etapa 2 - (27/09/2022)"
      ],
      "metadata": {
        "id": "lGC2K1aq0Rjj"
      }
    },
    {
      "cell_type": "markdown",
      "source": [
        "## Redundancia-Correlação (Entre colunas) - Matriz de Correlação"
      ],
      "metadata": {
        "id": "j2o6yrKkPVtB"
      }
    },
    {
      "cell_type": "code",
      "source": [
        "# GAMBIARRA\n",
        "df_export = pd.DataFrame(train, columns = [\"Pclass\",\"Sex\",\"Age\",\"SibSp\",\"Parch\",\"Survived\"])\n",
        "df_export[\"Sex\"].replace({\"male\":0,\"female\":1},inplace=True)\n",
        "df_export[\"Age\"].fillna(value = df_export[\"Age\"].median(),inplace=True)\n",
        "df_export[\"Parch\"].fillna(value = df_export[\"Parch\"].median(),inplace=True)\n",
        "df_export[\"SibSp\"].fillna(value = df_export[\"SibSp\"].median(),inplace=True)\n",
        "\n",
        "# Exportar os dados corrigidos para um novo CSV\n",
        "df_export.to_csv('Teste.csv')"
      ],
      "metadata": {
        "id": "LuuDEQdsyqwt"
      },
      "execution_count": null,
      "outputs": []
    },
    {
      "cell_type": "code",
      "source": [
        "# Correlção\n",
        "df_export.corr()"
      ],
      "metadata": {
        "colab": {
          "base_uri": "https://localhost:8080/",
          "height": 238
        },
        "id": "y6-3jhLQGiwm",
        "outputId": "06f469ff-0de7-4955-efd0-f530cd2e1866"
      },
      "execution_count": null,
      "outputs": [
        {
          "output_type": "execute_result",
          "data": {
            "text/plain": [
              "            Pclass       Sex       Age     SibSp     Parch  Survived\n",
              "Pclass    1.000000 -0.131900 -0.339898  0.083081  0.018443 -0.338481\n",
              "Sex      -0.131900  1.000000 -0.081163  0.114631  0.245489  0.543351\n",
              "Age      -0.339898 -0.081163  1.000000 -0.233296 -0.172482 -0.064910\n",
              "SibSp     0.083081  0.114631 -0.233296  1.000000  0.414838 -0.035322\n",
              "Parch     0.018443  0.245489 -0.172482  0.414838  1.000000  0.081629\n",
              "Survived -0.338481  0.543351 -0.064910 -0.035322  0.081629  1.000000"
            ],
            "text/html": [
              "\n",
              "  <div id=\"df-2959676a-caf9-40b2-8ae1-d8a2145c2480\">\n",
              "    <div class=\"colab-df-container\">\n",
              "      <div>\n",
              "<style scoped>\n",
              "    .dataframe tbody tr th:only-of-type {\n",
              "        vertical-align: middle;\n",
              "    }\n",
              "\n",
              "    .dataframe tbody tr th {\n",
              "        vertical-align: top;\n",
              "    }\n",
              "\n",
              "    .dataframe thead th {\n",
              "        text-align: right;\n",
              "    }\n",
              "</style>\n",
              "<table border=\"1\" class=\"dataframe\">\n",
              "  <thead>\n",
              "    <tr style=\"text-align: right;\">\n",
              "      <th></th>\n",
              "      <th>Pclass</th>\n",
              "      <th>Sex</th>\n",
              "      <th>Age</th>\n",
              "      <th>SibSp</th>\n",
              "      <th>Parch</th>\n",
              "      <th>Survived</th>\n",
              "    </tr>\n",
              "  </thead>\n",
              "  <tbody>\n",
              "    <tr>\n",
              "      <th>Pclass</th>\n",
              "      <td>1.000000</td>\n",
              "      <td>-0.131900</td>\n",
              "      <td>-0.339898</td>\n",
              "      <td>0.083081</td>\n",
              "      <td>0.018443</td>\n",
              "      <td>-0.338481</td>\n",
              "    </tr>\n",
              "    <tr>\n",
              "      <th>Sex</th>\n",
              "      <td>-0.131900</td>\n",
              "      <td>1.000000</td>\n",
              "      <td>-0.081163</td>\n",
              "      <td>0.114631</td>\n",
              "      <td>0.245489</td>\n",
              "      <td>0.543351</td>\n",
              "    </tr>\n",
              "    <tr>\n",
              "      <th>Age</th>\n",
              "      <td>-0.339898</td>\n",
              "      <td>-0.081163</td>\n",
              "      <td>1.000000</td>\n",
              "      <td>-0.233296</td>\n",
              "      <td>-0.172482</td>\n",
              "      <td>-0.064910</td>\n",
              "    </tr>\n",
              "    <tr>\n",
              "      <th>SibSp</th>\n",
              "      <td>0.083081</td>\n",
              "      <td>0.114631</td>\n",
              "      <td>-0.233296</td>\n",
              "      <td>1.000000</td>\n",
              "      <td>0.414838</td>\n",
              "      <td>-0.035322</td>\n",
              "    </tr>\n",
              "    <tr>\n",
              "      <th>Parch</th>\n",
              "      <td>0.018443</td>\n",
              "      <td>0.245489</td>\n",
              "      <td>-0.172482</td>\n",
              "      <td>0.414838</td>\n",
              "      <td>1.000000</td>\n",
              "      <td>0.081629</td>\n",
              "    </tr>\n",
              "    <tr>\n",
              "      <th>Survived</th>\n",
              "      <td>-0.338481</td>\n",
              "      <td>0.543351</td>\n",
              "      <td>-0.064910</td>\n",
              "      <td>-0.035322</td>\n",
              "      <td>0.081629</td>\n",
              "      <td>1.000000</td>\n",
              "    </tr>\n",
              "  </tbody>\n",
              "</table>\n",
              "</div>\n",
              "      <button class=\"colab-df-convert\" onclick=\"convertToInteractive('df-2959676a-caf9-40b2-8ae1-d8a2145c2480')\"\n",
              "              title=\"Convert this dataframe to an interactive table.\"\n",
              "              style=\"display:none;\">\n",
              "        \n",
              "  <svg xmlns=\"http://www.w3.org/2000/svg\" height=\"24px\"viewBox=\"0 0 24 24\"\n",
              "       width=\"24px\">\n",
              "    <path d=\"M0 0h24v24H0V0z\" fill=\"none\"/>\n",
              "    <path d=\"M18.56 5.44l.94 2.06.94-2.06 2.06-.94-2.06-.94-.94-2.06-.94 2.06-2.06.94zm-11 1L8.5 8.5l.94-2.06 2.06-.94-2.06-.94L8.5 2.5l-.94 2.06-2.06.94zm10 10l.94 2.06.94-2.06 2.06-.94-2.06-.94-.94-2.06-.94 2.06-2.06.94z\"/><path d=\"M17.41 7.96l-1.37-1.37c-.4-.4-.92-.59-1.43-.59-.52 0-1.04.2-1.43.59L10.3 9.45l-7.72 7.72c-.78.78-.78 2.05 0 2.83L4 21.41c.39.39.9.59 1.41.59.51 0 1.02-.2 1.41-.59l7.78-7.78 2.81-2.81c.8-.78.8-2.07 0-2.86zM5.41 20L4 18.59l7.72-7.72 1.47 1.35L5.41 20z\"/>\n",
              "  </svg>\n",
              "      </button>\n",
              "      \n",
              "  <style>\n",
              "    .colab-df-container {\n",
              "      display:flex;\n",
              "      flex-wrap:wrap;\n",
              "      gap: 12px;\n",
              "    }\n",
              "\n",
              "    .colab-df-convert {\n",
              "      background-color: #E8F0FE;\n",
              "      border: none;\n",
              "      border-radius: 50%;\n",
              "      cursor: pointer;\n",
              "      display: none;\n",
              "      fill: #1967D2;\n",
              "      height: 32px;\n",
              "      padding: 0 0 0 0;\n",
              "      width: 32px;\n",
              "    }\n",
              "\n",
              "    .colab-df-convert:hover {\n",
              "      background-color: #E2EBFA;\n",
              "      box-shadow: 0px 1px 2px rgba(60, 64, 67, 0.3), 0px 1px 3px 1px rgba(60, 64, 67, 0.15);\n",
              "      fill: #174EA6;\n",
              "    }\n",
              "\n",
              "    [theme=dark] .colab-df-convert {\n",
              "      background-color: #3B4455;\n",
              "      fill: #D2E3FC;\n",
              "    }\n",
              "\n",
              "    [theme=dark] .colab-df-convert:hover {\n",
              "      background-color: #434B5C;\n",
              "      box-shadow: 0px 1px 3px 1px rgba(0, 0, 0, 0.15);\n",
              "      filter: drop-shadow(0px 1px 2px rgba(0, 0, 0, 0.3));\n",
              "      fill: #FFFFFF;\n",
              "    }\n",
              "  </style>\n",
              "\n",
              "      <script>\n",
              "        const buttonEl =\n",
              "          document.querySelector('#df-2959676a-caf9-40b2-8ae1-d8a2145c2480 button.colab-df-convert');\n",
              "        buttonEl.style.display =\n",
              "          google.colab.kernel.accessAllowed ? 'block' : 'none';\n",
              "\n",
              "        async function convertToInteractive(key) {\n",
              "          const element = document.querySelector('#df-2959676a-caf9-40b2-8ae1-d8a2145c2480');\n",
              "          const dataTable =\n",
              "            await google.colab.kernel.invokeFunction('convertToInteractive',\n",
              "                                                     [key], {});\n",
              "          if (!dataTable) return;\n",
              "\n",
              "          const docLinkHtml = 'Like what you see? Visit the ' +\n",
              "            '<a target=\"_blank\" href=https://colab.research.google.com/notebooks/data_table.ipynb>data table notebook</a>'\n",
              "            + ' to learn more about interactive tables.';\n",
              "          element.innerHTML = '';\n",
              "          dataTable['output_type'] = 'display_data';\n",
              "          await google.colab.output.renderOutput(dataTable, element);\n",
              "          const docLink = document.createElement('div');\n",
              "          docLink.innerHTML = docLinkHtml;\n",
              "          element.appendChild(docLink);\n",
              "        }\n",
              "      </script>\n",
              "    </div>\n",
              "  </div>\n",
              "  "
            ]
          },
          "metadata": {},
          "execution_count": 11
        }
      ]
    },
    {
      "cell_type": "markdown",
      "source": [
        "## Random Forest"
      ],
      "metadata": {
        "id": "euVqHYMCPYqO"
      }
    },
    {
      "cell_type": "code",
      "source": [
        "test_forest = RandomForestClassifier(max_depth=6,n_estimators=200,random_state=0,n_jobs=-1)\n",
        "test_forest.fit(X_train,Y_train)\n",
        "forest_result = test_forest.predict(X_test)\n",
        "precisao = accuracy_score(Y_test, forest_result)\n",
        "precisao"
      ],
      "metadata": {
        "colab": {
          "base_uri": "https://localhost:8080/"
        },
        "id": "JpBBNOUchqDx",
        "outputId": "0e19bb0c-f981-4110-849a-7b1f2db4f40d"
      },
      "execution_count": null,
      "outputs": [
        {
          "output_type": "stream",
          "name": "stderr",
          "text": [
            "/usr/local/lib/python3.7/dist-packages/ipykernel_launcher.py:2: DataConversionWarning: A column-vector y was passed when a 1d array was expected. Please change the shape of y to (n_samples,), for example using ravel().\n",
            "  \n"
          ]
        },
        {
          "output_type": "execute_result",
          "data": {
            "text/plain": [
              "0.835820895522388"
            ]
          },
          "metadata": {},
          "execution_count": 24
        }
      ]
    },
    {
      "cell_type": "code",
      "source": [
        "# Avançado (Por Valores)\n",
        "true_negative, false_positive, false_negative, true_positive = confusion_matrix(Y_test,forest_result).ravel()\n",
        "\n",
        "# Reorganizando Visualmente\n",
        "matriz_organizada = np.array([[true_positive,false_negative],[false_positive,true_negative]])\n",
        "\n",
        "# Gráfico\n",
        "sns.heatmap(matriz_organizada,cmap='Greens',annot=True)\n",
        "plt.title('Matriz de Confusão',fontsize=14)\n",
        "plt.xticks([])\n",
        "plt.yticks([])\n",
        "\n",
        "plt.annotate('TP',(0.3,0.5),fontweight='bold')\n",
        "plt.annotate('FN',(1.3,0.5),fontweight='bold')\n",
        "plt.annotate('FP',(0.3,1.5),fontweight='bold')\n",
        "plt.annotate('TN',(1.3,1.5),fontweight='bold')"
      ],
      "metadata": {
        "id": "oDqXVbw6k_Gx",
        "outputId": "14ea8cdd-37ab-4808-8918-05fbae76ba14",
        "colab": {
          "base_uri": "https://localhost:8080/",
          "height": 282
        }
      },
      "execution_count": null,
      "outputs": [
        {
          "output_type": "execute_result",
          "data": {
            "text/plain": [
              "Text(1.3, 1.5, 'TN')"
            ]
          },
          "metadata": {},
          "execution_count": 25
        },
        {
          "output_type": "display_data",
          "data": {
            "text/plain": [
              "<Figure size 432x288 with 2 Axes>"
            ],
            "image/png": "[encoded data removed]"
          },
          "metadata": {
            "needs_background": "light"
          }
        }
      ]
    },
    {
      "cell_type": "markdown",
      "source": [
        "## Importância das Features"
      ],
      "metadata": {
        "id": "uYRD99tl4lMx"
      }
    },
    {
      "cell_type": "code",
      "source": [
        "forest_feactures = test_forest.feature_importances_\n",
        "forest_feactures"
      ],
      "metadata": {
        "colab": {
          "base_uri": "https://localhost:8080/"
        },
        "id": "lrNzXVfU3bMK",
        "outputId": "5290f366-27c9-48be-c500-c69b296543df"
      },
      "execution_count": null,
      "outputs": [
        {
          "output_type": "execute_result",
          "data": {
            "text/plain": [
              "array([0.18174131, 0.47392292, 0.20624621, 0.08274472, 0.05534484])"
            ]
          },
          "metadata": {},
          "execution_count": 26
        }
      ]
    },
    {
      "cell_type": "markdown",
      "source": [
        "# Falta..."
      ],
      "metadata": {
        "id": "q5Jj1ASQQdmf"
      }
    },
    {
      "cell_type": "code",
      "source": [],
      "metadata": {
        "id": "Si-q4bY40V9D"
      },
      "execution_count": null,
      "outputs": []
    },
    {
      "cell_type": "markdown",
      "source": [
        "## MLP -- Rede Neural \n",
        " Não precisa implementar -- Tensorflow/Keras\n",
        " Ler sobre Validação Cruzada -- Livro do Inicio - (K fold => 10 Vezes)\n",
        " \n",
        " * Criar rede\n",
        " * 4 entradas\n",
        " * Camda oculta -- Criar neuronios e Definir, testar neuronios e definir o melhor\n",
        " * Saida -- 3 neuronios -> Valor real -> Maior valor -> Flor definida\n",
        " * Dica: Binarizar (Rotulos -- Label) a saida -- Procurar Funções\n",
        "\n"
      ],
      "metadata": {
        "id": "4jrvhVC-jQW3"
      }
    }
  ]
}